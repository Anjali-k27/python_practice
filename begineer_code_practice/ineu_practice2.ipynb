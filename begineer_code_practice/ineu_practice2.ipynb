{
 "cells": [
  {
   "cell_type": "markdown",
   "id": "9ca41474",
   "metadata": {},
   "source": [
    "### Print the first 5 positive integers in ascneding order with one number in each line"
   ]
  },
  {
   "cell_type": "code",
   "execution_count": 1,
   "id": "5c1f18dd",
   "metadata": {},
   "outputs": [
    {
     "name": "stdout",
     "output_type": "stream",
     "text": [
      "1\n",
      "2\n",
      "3\n",
      "4\n",
      "5\n"
     ]
    }
   ],
   "source": [
    "for i in range(1,6):\n",
    "    print(i)"
   ]
  },
  {
   "cell_type": "markdown",
   "id": "a45808fa",
   "metadata": {},
   "source": [
    "### Print the following pattern"
   ]
  },
  {
   "cell_type": "raw",
   "id": "674d8551",
   "metadata": {},
   "source": [
    "*\n",
    "**\n",
    "***\n",
    "****\n",
    "*****\n",
    "There are no spaces between consecutive stars. There are no spaces \n",
    "at the end of each line."
   ]
  },
  {
   "cell_type": "code",
   "execution_count": 5,
   "id": "9d00eefa",
   "metadata": {},
   "outputs": [
    {
     "name": "stdout",
     "output_type": "stream",
     "text": [
      "*\n",
      "**\n",
      "***\n",
      "****\n",
      "*****\n"
     ]
    }
   ],
   "source": [
    "for i in range(1,6):\n",
    "    print(\"*\"*i)"
   ]
  },
  {
   "cell_type": "markdown",
   "id": "5de466da",
   "metadata": {},
   "source": [
    "### Accept an integer as input and print its square as output."
   ]
  },
  {
   "cell_type": "code",
   "execution_count": 8,
   "id": "a21f4612",
   "metadata": {},
   "outputs": [
    {
     "name": "stdout",
     "output_type": "stream",
     "text": [
      "enter an integer: 2\n"
     ]
    },
    {
     "data": {
      "text/plain": [
       "4"
      ]
     },
     "execution_count": 8,
     "metadata": {},
     "output_type": "execute_result"
    }
   ],
   "source": [
    "a = int(input(\"enter an integer: \"))\n",
    "\n",
    "def return_sq(a):\n",
    "    return a*a\n",
    "\n",
    "return_sq(a)"
   ]
  },
  {
   "cell_type": "markdown",
   "id": "22fc6f1c",
   "metadata": {},
   "source": [
    "### Accept two integers as input and print their sum as output."
   ]
  },
  {
   "cell_type": "code",
   "execution_count": 13,
   "id": "7b454a50",
   "metadata": {},
   "outputs": [
    {
     "name": "stdout",
     "output_type": "stream",
     "text": [
      "enter an integer: 8\n",
      "enter an integer: 10\n"
     ]
    },
    {
     "data": {
      "text/plain": [
       "18"
      ]
     },
     "execution_count": 13,
     "metadata": {},
     "output_type": "execute_result"
    }
   ],
   "source": [
    "a = int(input(\"enter an integer: \"))\n",
    "b = int(input(\"enter an integer: \"))\n",
    "\n",
    "def get_sum(a,b):\n",
    "    return a+b\n",
    "\n",
    "get_sum(a,b)"
   ]
  },
  {
   "cell_type": "markdown",
   "id": "cd604111",
   "metadata": {},
   "source": [
    "### Accept two words as input and print the two words after adding a space between them"
   ]
  },
  {
   "cell_type": "code",
   "execution_count": 14,
   "id": "39cbbbe0",
   "metadata": {},
   "outputs": [
    {
     "name": "stdout",
     "output_type": "stream",
     "text": [
      "enter a word: Anjali\n",
      "enter a word: Kumari\n"
     ]
    },
    {
     "data": {
      "text/plain": [
       "'Anjali Kumari'"
      ]
     },
     "execution_count": 14,
     "metadata": {},
     "output_type": "execute_result"
    }
   ],
   "source": [
    "a = input(\"enter a word: \")\n",
    "b = input(\"enter a word: \")\n",
    "\n",
    "def word_concat(a,b):\n",
    "    return a+ \" \" +b\n",
    "\n",
    "word_concat(a,b)"
   ]
  },
  {
   "cell_type": "markdown",
   "id": "95a3c8f7",
   "metadata": {},
   "source": [
    "### Accept the registration number of a vehicle as input and print its state-code as output"
   ]
  },
  {
   "cell_type": "code",
   "execution_count": 15,
   "id": "b2cedcba",
   "metadata": {},
   "outputs": [
    {
     "name": "stdout",
     "output_type": "stream",
     "text": [
      "enter registration number: KA042345\n"
     ]
    },
    {
     "data": {
      "text/plain": [
       "'KA'"
      ]
     },
     "execution_count": 15,
     "metadata": {},
     "output_type": "execute_result"
    }
   ],
   "source": [
    "l = input(\"enter registration number: \")\n",
    "\n",
    "def get_reg(l):\n",
    "    return l[:2]\n",
    "\n",
    "get_reg(l)"
   ]
  },
  {
   "cell_type": "markdown",
   "id": "607fb6a5",
   "metadata": {},
   "source": [
    "### Accept a five-digit number as input and print the sum of its digits as output"
   ]
  },
  {
   "cell_type": "code",
   "execution_count": 26,
   "id": "63dda3b2",
   "metadata": {},
   "outputs": [
    {
     "name": "stdout",
     "output_type": "stream",
     "text": [
      "enter 5 digit number: 76435\n"
     ]
    },
    {
     "data": {
      "text/plain": [
       "25"
      ]
     },
     "execution_count": 26,
     "metadata": {},
     "output_type": "execute_result"
    }
   ],
   "source": [
    "a = list(input(\"enter 5 digit number: \"))\n",
    "\n",
    "def get_sum(a):\n",
    "    sum = 0\n",
    "    for i in a:\n",
    "        sum = sum + int(i)\n",
    "    return sum\n",
    "get_sum(a)"
   ]
  },
  {
   "cell_type": "markdown",
   "id": "d03e9717",
   "metadata": {},
   "source": [
    "### Accept five words as input and print the sentence formed by these words after adding a space between consecutive words and a full stop at the end"
   ]
  },
  {
   "cell_type": "code",
   "execution_count": 38,
   "id": "1def8023",
   "metadata": {},
   "outputs": [
    {
     "name": "stdout",
     "output_type": "stream",
     "text": [
      "enter a word: Anjali\n",
      "enter a word: is\n",
      "enter a word: a\n",
      "enter a word: good\n",
      "enter a word: girl\n"
     ]
    },
    {
     "data": {
      "text/plain": [
       "'Anjali is a good girl.'"
      ]
     },
     "execution_count": 38,
     "metadata": {},
     "output_type": "execute_result"
    }
   ],
   "source": [
    "def get_sentence():\n",
    "    l = []\n",
    "    for i in range(5):\n",
    "        w = input(\"enter a word: \")\n",
    "        l.append(w)\n",
    "    s = \" \".join(l)\n",
    "    s = s + \".\"\n",
    "    return s\n",
    "\n",
    "get_sentence()"
   ]
  },
  {
   "cell_type": "markdown",
   "id": "c6106b0e",
   "metadata": {},
   "source": [
    "### Accept the date in DD-MM-YYYY format as input and print the year as output"
   ]
  },
  {
   "cell_type": "code",
   "execution_count": 40,
   "id": "ca5eaad7",
   "metadata": {},
   "outputs": [
    {
     "name": "stdout",
     "output_type": "stream",
     "text": [
      "enter a date in dd-mm-yyyy format: 21-03-2023\n"
     ]
    },
    {
     "data": {
      "text/plain": [
       "'2023'"
      ]
     },
     "execution_count": 40,
     "metadata": {},
     "output_type": "execute_result"
    }
   ],
   "source": [
    "d = input(\"enter a date in dd-mm-yyyy format: \")\n",
    "\n",
    "def get_year():\n",
    "    return d[-4:]\n",
    "\n",
    "get_year()"
   ]
  },
  {
   "cell_type": "markdown",
   "id": "efbf50b0",
   "metadata": {},
   "source": [
    "### Accept a sequence of five single digit numbers separated by commas as input. Print the product of all five numbers"
   ]
  },
  {
   "cell_type": "code",
   "execution_count": 12,
   "id": "2d3acc7d",
   "metadata": {},
   "outputs": [
    {
     "name": "stdout",
     "output_type": "stream",
     "text": [
      "Enter a single digit number: 1\n",
      "Enter a single digit number: 2\n",
      "Enter a single digit number: 3\n",
      "Enter a single digit number: 4\n",
      "Enter a single digit number: 5\n"
     ]
    },
    {
     "data": {
      "text/plain": [
       "120"
      ]
     },
     "execution_count": 12,
     "metadata": {},
     "output_type": "execute_result"
    }
   ],
   "source": [
    "def get_digits():\n",
    "    global l \n",
    "    l = []\n",
    "    for i in range(5):\n",
    "        x = int(input(\"Enter a single digit number: \"))\n",
    "        l.append(x)\n",
    "    return l\n",
    "\n",
    "def get_prod():\n",
    "    mul = 1\n",
    "    for i in l:\n",
    "        mul = mul * i\n",
    "    return mul\n",
    "get_digits()\n",
    "get_prod()"
   ]
  },
  {
   "cell_type": "markdown",
   "id": "fb961121",
   "metadata": {},
   "source": [
    "### Accept two positive integers x and y as input. Print the number of digits in x raised to power of y"
   ]
  },
  {
   "cell_type": "code",
   "execution_count": 19,
   "id": "bdf638d3",
   "metadata": {},
   "outputs": [
    {
     "name": "stdout",
     "output_type": "stream",
     "text": [
      "Enter a positive integer: 6\n",
      "Enter a positive integer: 6\n"
     ]
    },
    {
     "data": {
      "text/plain": [
       "5"
      ]
     },
     "execution_count": 19,
     "metadata": {},
     "output_type": "execute_result"
    }
   ],
   "source": [
    "x = int(input(\"Enter a positive integer: \"))\n",
    "y = int(input(\"Enter a positive integer: \"))\n",
    "\n",
    "def get_count():\n",
    "    z = x**y\n",
    "    return len(str(z))\n",
    "\n",
    "get_count()"
   ]
  },
  {
   "cell_type": "markdown",
   "id": "0a5afd7c",
   "metadata": {},
   "source": [
    "### Accept a string as input. \n",
    "\n",
    "* If the input string is of odd length, then continue with it. \n",
    "* If the input string is of even length, make the string of odd length as below:\n",
    "\n",
    "_If the last character is a period (.), then remove it_ <br>\n",
    "_If the last character is not a period, then add a period (.) to the end of the string_\n",
    "\n",
    "_Call this string of odd length word. Select a substring made up of three consecutive characters from word such that there are an equal number of characters to the left and right of this substring_\n",
    "\n",
    "Print this substring as output. You can assume that all input strings will be in lower case and will have a length of at least four."
   ]
  },
  {
   "cell_type": "code",
   "execution_count": 8,
   "id": "e3f6cafb",
   "metadata": {},
   "outputs": [
    {
     "name": "stdout",
     "output_type": "stream",
     "text": [
      "Enter a string value: welcome\n"
     ]
    },
    {
     "data": {
      "text/plain": [
       "'lco'"
      ]
     },
     "execution_count": 8,
     "metadata": {},
     "output_type": "execute_result"
    }
   ],
   "source": [
    "def get_s():\n",
    "    s = input(\"Enter a string value: \")\n",
    "    if len(s)%2 == 0:\n",
    "        if s[-1] == \".\":\n",
    "            s.replace(\".\",\"\")\n",
    "        else:\n",
    "            s = s + \".\"\n",
    "    n = int((len(s) - 1)/2)\n",
    "    return s[n-1:n+2]\n",
    "get_s()"
   ]
  },
  {
   "cell_type": "markdown",
   "id": "09cc8bdf",
   "metadata": {},
   "source": [
    "### Accept three positive integers as input and check if they form the sides of a right triangle. \n",
    "\n",
    "* Print YES if they form one, and NO is they do not. The input will have three lines, with one integer on each line. \n",
    "* The output should be a single line containing one of these two strings: YES or NO."
   ]
  },
  {
   "cell_type": "code",
   "execution_count": 16,
   "id": "8050ad59",
   "metadata": {},
   "outputs": [
    {
     "name": "stdout",
     "output_type": "stream",
     "text": [
      "Enter an integer: 3\n",
      "Enter an integer: 4\n",
      "Enter an integer: 5\n",
      "yes\n"
     ]
    }
   ],
   "source": [
    "a = int(input(\"Enter an integer: \"))\n",
    "b = int(input(\"Enter an integer: \"))\n",
    "c = int(input(\"Enter an integer: \"))\n",
    "\n",
    "def is_tri():\n",
    "    if ((a**2 + b**2 == c**2) or (b**2 + c**2 == a**2) or (a**2 + c**2 == b**2)):\n",
    "        print(\"yes\")\n",
    "    else:\n",
    "        print(\"no\")\n",
    "\n",
    "is_tri() "
   ]
  },
  {
   "cell_type": "markdown",
   "id": "cace3f0a",
   "metadata": {},
   "source": [
    "#### EvenOdd is a tech startup. Each employee at the startup is given an employee id which is a unique positive integer. On one warm Sunday evening, five employees of the company come together for a meeting and sit at a circular table:\n",
    "\n",
    "__The employees follow a strange convention. They will continue the meeting only if the following condition is satisfied__: <br>\n",
    "\n",
    "* The sum of the employee-ids of every pair of adjacent employees at the table must be an even number\n",
    "* They are so lazy that they won’t move around to satisfy the above condition, If the current seating plan doesn’t satisfy the condition, the meeting will be cancelled. \n",
    "\n",
    "You are given the employee-id of all five employees. Your task is to decide if the meeting happened or not.\n",
    "\n",
    "The input will be five lined, each containing an integer. The ith line will have the employee-id of Ei. The output will be a single line containing one of these two strings: YES or NO"
   ]
  },
  {
   "cell_type": "code",
   "execution_count": 21,
   "id": "668d5f69",
   "metadata": {},
   "outputs": [
    {
     "name": "stdout",
     "output_type": "stream",
     "text": [
      "Enter your emp id: 1\n",
      "Enter your emp id: 3\n",
      "Enter your emp id: 5\n",
      "Enter your emp id: 7\n",
      "Enter your emp id: 9\n",
      "Yes\n"
     ]
    }
   ],
   "source": [
    "a = int(input(\"Enter your emp id: \"))\n",
    "b = int(input(\"Enter your emp id: \"))\n",
    "c = int(input(\"Enter your emp id: \"))\n",
    "d = int(input(\"Enter your emp id: \"))\n",
    "e = int(input(\"Enter your emp id: \"))\n",
    "\n",
    "def meeting_info():\n",
    "    if ((a+b)%2 == 0) and ((b+c)%2 == 0) and ((c+d)%2 == 0) and ((d+e)%2 == 0) and ((e+a)%2 == 0):\n",
    "        print(\"Yes\")\n",
    "    else:\n",
    "        print(\"No\")\n",
    "        \n",
    "meeting_info()"
   ]
  },
  {
   "cell_type": "markdown",
   "id": "b70771f9",
   "metadata": {},
   "source": [
    "### Accept a string as input and print the vowels present in the string in alphabetical order. \n",
    "\n",
    "If the string doesn’t contain any vowels, then print the string none as output. Each vowel that appears in the input string – irrespective of its case should appear just once in lower case in the output"
   ]
  },
  {
   "cell_type": "code",
   "execution_count": 7,
   "id": "08bc9efc",
   "metadata": {},
   "outputs": [
    {
     "name": "stdout",
     "output_type": "stream",
     "text": [
      "Enter a string: welcome\n",
      "{'o', 'e'}\n"
     ]
    }
   ],
   "source": [
    "s = input(\"Enter a string: \").lower()\n",
    "lst = list(s)\n",
    "v = ['a','e','i','o','u']\n",
    "\n",
    "res = []\n",
    "for i in lst:\n",
    "    if i in v:\n",
    "        res.append(i)\n",
    "#     else:\n",
    "#         print('None')\n",
    "print(set(res))"
   ]
  },
  {
   "cell_type": "markdown",
   "id": "93278b87",
   "metadata": {},
   "source": [
    "### You are given the date of birth of two persons, not necessarily from the same family. Your task is to find the younger of the two. \n",
    "\n",
    "* If both of them share the same date of birth, then the younger of the two is assumed to be that person whose name comes first in alphabetical order.\n",
    "* The input will have four lines. The first two lines correspond to the first person, while the last two lines correspond to the second person. \n",
    "* For each person, the first line corresponds to the name and the second line corresponds to the date of birth in “DD-MM-YYYY” format. \n",
    "\n",
    "Your output should be the name of the younger of the two."
   ]
  },
  {
   "cell_type": "code",
   "execution_count": 82,
   "id": "09edfb55",
   "metadata": {},
   "outputs": [
    {
     "name": "stdout",
     "output_type": "stream",
     "text": [
      "Enter your name: Mona\n",
      "Enter your date of birth: 20-01-1996\n",
      "Enter your name: Anjali\n",
      "Enter your date of birth: 27-02-1997\n",
      "Anjali is younger\n"
     ]
    }
   ],
   "source": [
    "n1 = input(\"Enter your name: \")\n",
    "d1 = input(\"Enter your date of birth: \")\n",
    "\n",
    "n2 = input(\"Enter your name: \")\n",
    "d2 = input(\"Enter your date of birth: \")\n",
    "\n",
    "def get_younger():\n",
    "    if d1 == d2:\n",
    "        if n1 > n2:\n",
    "            print(f\"{n2} is younger\")\n",
    "        else:\n",
    "            print(f\"{n1} is younger\")\n",
    "\n",
    "    elif d1[-4:] != d2[-4:]:\n",
    "        if int(d1[-4:]) < int(d2[-4:]):\n",
    "            print(f\"{n2} is younger\")\n",
    "        else:\n",
    "            print(f\"{n1} is younger\")\n",
    "    \n",
    "    elif d1[3:5] != d2[3:5]:\n",
    "        if int(d1[3:5]) < int(d2[3:5]):\n",
    "            print(f\"{n2} is younger\")\n",
    "        else:\n",
    "            print(f\"{n1} is younger\")\n",
    "            \n",
    "    else:\n",
    "        if int(d1[:2]) < int(d2[:2]):\n",
    "            print(f\"{n2} is younger\")\n",
    "        else:\n",
    "            print(f\"{n1} is younger\")\n",
    "        \n",
    "get_younger()"
   ]
  },
  {
   "cell_type": "markdown",
   "id": "496f493b",
   "metadata": {},
   "source": [
    "### Accept a string as input. Your task is to determine if the input string is a valid password or not. \n",
    "\n",
    "* For a string to be a valid password, it must satisfy all the conditions given below:\n",
    "\n",
    "(1) It should have at least 8 and at most 32 characters <br>\n",
    "(2) It should start with an uppercase or lowercase letter <br>\n",
    "(3) It should not have any of these characters: / \\ = ' \" <br>\n",
    "(4) It should not have spaces\n",
    "\n",
    "It could have any character that is not mentioned in the list of characters to be avoided (points 3 and 4). <br>\n",
    "Output True if the string forms a valid password and False otherwise"
   ]
  },
  {
   "cell_type": "code",
   "execution_count": 90,
   "id": "b8e0cd6f",
   "metadata": {},
   "outputs": [
    {
     "name": "stdout",
     "output_type": "stream",
     "text": [
      "Enter a string value: hellowhkkd\n",
      "Valid password\n"
     ]
    }
   ],
   "source": [
    "# Note: you can write all if conditions in just 1 if statement. I wrote in multiple if, to make it more readable!!\n",
    "s = input(\"Enter a string value: \")\n",
    "\n",
    "def pass_valid():\n",
    "    if (len(s) >=8 and len(s) <=32):\n",
    "        if s[0].isalpha():\n",
    "            if '/' not in s and '\\\\' not in s and '=' not in s and '\\\"' not in s and ' ' not in s:\n",
    "                print(\"Valid password\")\n",
    "            else:\n",
    "                print(\"Invalid password\")\n",
    "        else:\n",
    "            print(\"Invalid password\")\n",
    "    else:\n",
    "        print(\"Invalid password\")\n",
    "        \n",
    "pass_valid()"
   ]
  },
  {
   "cell_type": "markdown",
   "id": "d2320395",
   "metadata": {},
   "source": [
    "### Accept a positive integer n as input and print the first n positive integers, one number on each line."
   ]
  },
  {
   "cell_type": "code",
   "execution_count": 91,
   "id": "5563db2b",
   "metadata": {},
   "outputs": [
    {
     "name": "stdout",
     "output_type": "stream",
     "text": [
      "Enter a positive integer: 5\n",
      "1\n",
      "2\n",
      "3\n",
      "4\n",
      "5\n"
     ]
    }
   ],
   "source": [
    "n = int(input(\"Enter a positive integer: \"))\n",
    "\n",
    "def get_int():\n",
    "    for i in range(1, n+1):\n",
    "        print(i)\n",
    "get_int()"
   ]
  },
  {
   "cell_type": "markdown",
   "id": "217742f8",
   "metadata": {},
   "source": [
    "### Accept a positive integer n as input, where n is greater than 1. Print PRIME if n is a prime number and NOT PRIME otherwise."
   ]
  },
  {
   "cell_type": "code",
   "execution_count": 93,
   "id": "862256e9",
   "metadata": {},
   "outputs": [
    {
     "name": "stdout",
     "output_type": "stream",
     "text": [
      "Enter a positive integer: 7\n",
      "7 is a prime number\n"
     ]
    }
   ],
   "source": [
    "n = int(input(\"Enter a positive integer: \"))\n",
    "\n",
    "def find_prime():\n",
    "    isprime = True\n",
    "    if n == 1:\n",
    "        isprime = False\n",
    "    else:\n",
    "        for i in range(2,n):\n",
    "            if n%i == 0:\n",
    "                isprime == False\n",
    "    if isprime == True:\n",
    "        print(f\"{n} is a prime number\")\n",
    "    else:\n",
    "        print(f\"{n} is not a prime number\")\n",
    "\n",
    "find_prime()"
   ]
  },
  {
   "cell_type": "markdown",
   "id": "d5d78cbb",
   "metadata": {},
   "source": [
    "### Accept two strings as input and form a new string by removing all characters from the second string which are present in the first string. \n",
    "\n",
    "Print this new string as output. You can assume that all input strings will be in lower case."
   ]
  },
  {
   "cell_type": "code",
   "execution_count": 101,
   "id": "1c191336",
   "metadata": {},
   "outputs": [
    {
     "name": "stdout",
     "output_type": "stream",
     "text": [
      "Enter a string value: welcome\n",
      "Enter a string value: hotel\n"
     ]
    },
    {
     "data": {
      "text/plain": [
       "'ht'"
      ]
     },
     "execution_count": 101,
     "metadata": {},
     "output_type": "execute_result"
    }
   ],
   "source": [
    "a = input(\"Enter a string value: \")\n",
    "b = input(\"Enter a string value: \")\n",
    "\n",
    "def str_rep(a,b):\n",
    "    for i in a:\n",
    "        if i in b:\n",
    "            b = b.replace(i,'')\n",
    "    return b\n",
    "\n",
    "str_rep(a,b)"
   ]
  },
  {
   "cell_type": "markdown",
   "id": "3886d171",
   "metadata": {},
   "source": [
    "### Accept a phone number as input. A valid phone number should satisfy the following constraints. <br>\n",
    "\n",
    "(1) The number should start with one of these digits: 6, 7, 8, 9 <br>\n",
    "(2) The number should be exactly 10 digits long. <br>\n",
    "(3) No digit should appear more than 7 times in the number. <br>\n",
    "(4) No digit should appear more than 5 times in a row in the number. <br> \n",
    "\n",
    "If the fourth condition is not very clear, then consider this example: \n",
    "the number 9888888765 is invalid because the digit 8 appears more than 5 times in a row. \n",
    "\n",
    "Print the string valid if the phone number is valid. If not, print the string invalid."
   ]
  },
  {
   "cell_type": "code",
   "execution_count": 1,
   "id": "bc7844de",
   "metadata": {},
   "outputs": [
    {
     "name": "stdout",
     "output_type": "stream",
     "text": [
      "Enter your phone number: 6271927839\n",
      "Valid phone number\n"
     ]
    }
   ],
   "source": [
    "n = input(\"Enter your phone number: \")\n",
    "a = False\n",
    "\n",
    "def valid_num():\n",
    "    if int(n[0])>5 and len(n)==10 and n.isdigit():\n",
    "        for i in range(10):\n",
    "            if n.count(n[i])<8:\n",
    "                a=True\n",
    "                if n[i]*6 in n:\n",
    "                    a = False\n",
    "                    break\n",
    "            else:\n",
    "                break\n",
    "\n",
    "    if a:\n",
    "        print(\"Valid phone number\")\n",
    "    else:\n",
    "        print(\"Invalid phone number\")\n",
    "        \n",
    "valid_num()"
   ]
  },
  {
   "cell_type": "markdown",
   "id": "698b0cff",
   "metadata": {},
   "source": [
    "### In the first line of input, accept a sequence of space-separated words. In the second line of input, accept a single word. \n",
    "\n",
    "If this word is not present in the sequence, print NO. If this word is present in the sequence, then print YES and in the next line of the output, print the number of times the word appears in the sequence."
   ]
  },
  {
   "cell_type": "code",
   "execution_count": 16,
   "id": "fd4eb0b3",
   "metadata": {},
   "outputs": [
    {
     "name": "stdout",
     "output_type": "stream",
     "text": [
      "I do know this does sound weird but do you know why\n",
      "do\n",
      "yes\n",
      "2\n"
     ]
    }
   ],
   "source": [
    "s = input().split(' ')\n",
    "a = input()\n",
    "\n",
    "def get_occ():\n",
    "    if a in s:\n",
    "        print(\"yes\")\n",
    "        print(s.count(a))\n",
    "    else:\n",
    "        print(\"no\")\n",
    "        \n",
    "get_occ()"
   ]
  },
  {
   "cell_type": "markdown",
   "id": "dc23f463",
   "metadata": {},
   "source": [
    "### Write a function named factorial that accepts an integer n as argument. \n",
    "\n",
    "It should return the factorial of n if n is a positive integer. It should return -1 if n is a negative integer, and it should return 1 if n is zero."
   ]
  },
  {
   "cell_type": "code",
   "execution_count": 19,
   "id": "d8b703c1",
   "metadata": {},
   "outputs": [
    {
     "name": "stdout",
     "output_type": "stream",
     "text": [
      "Enter an integer: 5\n"
     ]
    },
    {
     "data": {
      "text/plain": [
       "120"
      ]
     },
     "execution_count": 19,
     "metadata": {},
     "output_type": "execute_result"
    }
   ],
   "source": [
    "def facto(n):\n",
    "    if n<0:\n",
    "        return -1\n",
    "    elif n==0:\n",
    "        return 1\n",
    "    else:\n",
    "        f = 1\n",
    "        for i in range(1, n+1):   \n",
    "             f*=i\n",
    "        return f\n",
    "    \n",
    "facto(5)  "
   ]
  },
  {
   "cell_type": "markdown",
   "id": "8c66c52e",
   "metadata": {},
   "source": [
    "### The range of a list of numbers is the difference between the maximum and minimum values in the list, write a function named get_range that accepts a non-empty list of real numbers as argument. \n",
    "\n",
    "It should return the range of the list.\n",
    "\n",
    "(1) Avoid using built-in function such as max and min.<br>\n",
    "(2) You do not have to accept input from the user or print output to the console. You just have to write the function definition."
   ]
  },
  {
   "cell_type": "code",
   "execution_count": 20,
   "id": "cddff37d",
   "metadata": {},
   "outputs": [
    {
     "data": {
      "text/plain": [
       "7"
      ]
     },
     "execution_count": 20,
     "metadata": {},
     "output_type": "execute_result"
    }
   ],
   "source": [
    "def get_max(l):\n",
    "    maxi = l[0]\n",
    "    for x in l:\n",
    "        if x > maxi:\n",
    "            maxi = x\n",
    "    return maxi\n",
    "\n",
    "def get_min(l):\n",
    "    mini = l[0]\n",
    "    for x in l:\n",
    "        if x < mini:\n",
    "            mini = x\n",
    "    return mini\n",
    "\n",
    "def get_range(l):\n",
    "    maxi = get_max(l)\n",
    "    mini = get_min(l)\n",
    "    r = maxi - mini\n",
    "    return r\n",
    "\n",
    "get_range([1,6,4,3,8,3])"
   ]
  },
  {
   "cell_type": "markdown",
   "id": "7a6af8b9",
   "metadata": {},
   "source": [
    "### Write a function named read_file that accepts a text file named filename as argument. Within the function, read the file and print each line of the file on a separate line in the console. \n",
    "\n",
    "You shouldn't print any extra characters at the end of a line. There shouldn't be an empty line between any two \n",
    "consecutive lines. <br>\n",
    "\n",
    "(1) filename is a string variable that holds the name of the file. For example, in the first test case, it is filename = 'public_1.txt'. <br>\n",
    "(2) You do not have to accept input from the console. You have to write the function definition and print the contents of the file within the function"
   ]
  },
  {
   "cell_type": "code",
   "execution_count": null,
   "id": "5cebe2fa",
   "metadata": {},
   "outputs": [],
   "source": [
    "def read_file(file: str):\n",
    "    with open(file, 'r') as f:\n",
    "        lines = f.read()\n",
    "        print(lines)"
   ]
  },
  {
   "cell_type": "markdown",
   "id": "1e2c70e2",
   "metadata": {},
   "source": [
    "### A simple algorithm has to be designed to find out whether a student belongs to the Data Science branch or not. \n",
    "\n",
    "The input will be a student's roll number, which is of the form BR18B0000. Here, BR represents the branch code, 18 represents the year of joining, B represents the education level and 0000 represents the specific identification given to the student of that batch. \n",
    "\n",
    "The branch code for Data Science is DS. \n",
    "\n",
    "Print True if the student belongs to Data Science branch and False otherwise."
   ]
  },
  {
   "cell_type": "code",
   "execution_count": 24,
   "id": "66f30725",
   "metadata": {},
   "outputs": [
    {
     "name": "stdout",
     "output_type": "stream",
     "text": [
      "True\n"
     ]
    }
   ],
   "source": [
    "def get_branch(x: str):\n",
    "    '''This code will tell us whether a student belongs to DS branch or not, given his/her roll no'''\n",
    "    if x[:2] == 'DS':\n",
    "        print(\"True\")\n",
    "    else:\n",
    "        print(\"False\")\n",
    "        \n",
    "get_branch('DS810000')"
   ]
  },
  {
   "cell_type": "markdown",
   "id": "9073e4eb",
   "metadata": {},
   "source": [
    "### The police are trying to track a criminal based on the evidence available at a crime site. Their main clue is a vehicle's damaged number plate. \n",
    "\n",
    "Only the string TN07 is visible. The format of the registration number is AA00AA00, where the first two letters are alphabets, next two are numbers, next two are again alphabets followed by two numbers at the end. \n",
    "\n",
    "A number plate is picked from a database of registration numbers and is given to you as input. Your task is to determine if this could belong to the criminal or not. \n",
    "\n",
    "Print True if the number plate contains TN07 and False otherwise."
   ]
  },
  {
   "cell_type": "code",
   "execution_count": 30,
   "id": "5e96d3b5",
   "metadata": {},
   "outputs": [
    {
     "name": "stdout",
     "output_type": "stream",
     "text": [
      "True\n"
     ]
    }
   ],
   "source": [
    "def get_reg(n):\n",
    "    if n[:4] == 'TN07' or n[-4:] == 'TN07':\n",
    "        print(\"True\")\n",
    "    else:\n",
    "        print(\"False\")\n",
    "    \n",
    "get_reg('AA07TN07')"
   ]
  },
  {
   "cell_type": "markdown",
   "id": "cd288e1c",
   "metadata": {},
   "source": [
    "### You are given a string and two non-negative integers as input. The two integers specify the start and end indices of a substring in the given string. Create a new string by replicating the substring a minimum number of times so that the resulting string is longer than the input string. \n",
    "\n",
    "The input parameters are the string, start index of the substring and the end index of substring (endpoints inclusive) each on a different line."
   ]
  },
  {
   "cell_type": "code",
   "execution_count": 2,
   "id": "cc2991dd",
   "metadata": {},
   "outputs": [
    {
     "name": "stdout",
     "output_type": "stream",
     "text": [
      "welcome\n",
      "2\n",
      "5\n",
      "lcomlcom\n"
     ]
    }
   ],
   "source": [
    "s = input()\n",
    "a = int(input())\n",
    "b = int(input())\n",
    "\n",
    "x = s[a:b+1]\n",
    "e = \"\"\n",
    "while len(s) >= len(e):\n",
    "    e += x\n",
    "print(e)"
   ]
  },
  {
   "cell_type": "markdown",
   "id": "5ff079e1",
   "metadata": {},
   "source": [
    "### A class teacher has decided to split her entire class into four groups, namely Sapphire, Peridot, Ruby, and Emerald for sports competitions. For dividing the students into these four groups, she has followed the pattern given below:\n",
    "\n",
    "Sapphire - 1, 5, 9, 13, 17, 21, ... \n",
    "\n",
    "Peridot - 2, 6, 10, 14, 18, 22, ...\n",
    "\n",
    "Ruby - 3, 7, 11, 15, 19, 23, ...\n",
    "\n",
    "Emerald - 4, 8, 12, 16, 20, 24, ...\n",
    "\n",
    "All the students are represented by their roll numbers. Based on the above pattern, given the roll number as input, print the group the student belongs to. \n",
    "\n",
    "__Note that the roll number can be any positive integer and not necessarily less than 25__."
   ]
  },
  {
   "cell_type": "code",
   "execution_count": 10,
   "id": "9c4402c4",
   "metadata": {},
   "outputs": [
    {
     "name": "stdout",
     "output_type": "stream",
     "text": [
      "Enter your roll no: 34\n",
      "Peridot\n"
     ]
    }
   ],
   "source": [
    "n = int(input(\"Enter your roll no: \"))\n",
    "\n",
    "for i in range(1,n+1,4):\n",
    "    if n==i:\n",
    "        print('Sapphire')\n",
    "for j in range(2,n+1,4):\n",
    "    if n==j:\n",
    "        print('Peridot')\n",
    "for k in range(3,n+1,4):\n",
    "    if k==n:\n",
    "        print('Ruby')\n",
    "for l in range(4,n+1,4):\n",
    "    if l==n:\n",
    "        print('Emerald')"
   ]
  },
  {
   "cell_type": "markdown",
   "id": "bf36b8eb",
   "metadata": {},
   "source": [
    "###  A data science company wants to hire data scientists from abc college. The company follows a certain criteria for selection: \n",
    "\n",
    "* for a student to be selected, the number of backlogs should be at most 5 and the CGPA (Cumulative Grade Point Average) should be greater than 6. \n",
    "\n",
    "If the student does not fit the above criteria, then the student is not offered the job. \n",
    "\n",
    "If the student is selected, then the salary offered is equal to 5 times his/her CGPA (in lakhs).\n",
    "\n",
    "Accept the number of backlogs (integer) and the CGPA (float) of the student as input. Your task is to determine if the student is selected or not. \n",
    "\n",
    "If the student is selected, then print the package. If not, then print the string Not Selected."
   ]
  },
  {
   "cell_type": "code",
   "execution_count": 13,
   "id": "a9772b3e",
   "metadata": {},
   "outputs": [
    {
     "name": "stdout",
     "output_type": "stream",
     "text": [
      "Enter no. of backlogs: 4\n",
      "Enter your CGPA: 6.4\n",
      "Selected\n",
      "Salary is 3200000.0\n"
     ]
    }
   ],
   "source": [
    "b = int(input(\"Enter no. of backlogs: \"))\n",
    "c = float(input(\"Enter your CGPA: \"))\n",
    "\n",
    "if b<=5 and c>6:\n",
    "    print(\"Selected\")\n",
    "    salary = 5*c*100000\n",
    "    print(f\"Salary is {salary}\")\n",
    "else:\n",
    "    print(\"Not selected\")"
   ]
  },
  {
   "cell_type": "markdown",
   "id": "6dae0dec",
   "metadata": {},
   "source": [
    "### Accept a string as input and print PALINDROME if it is a palindrome, and NOT PALINDROME otherwise"
   ]
  },
  {
   "cell_type": "code",
   "execution_count": 17,
   "id": "75091125",
   "metadata": {},
   "outputs": [
    {
     "name": "stdout",
     "output_type": "stream",
     "text": [
      "Enter a string value: hello\n",
      "Not a palindrome\n"
     ]
    }
   ],
   "source": [
    "s = input(\"Enter a string value: \")\n",
    "\n",
    "if s == s[::-1]:\n",
    "    print(\"Palindrome\")\n",
    "else:\n",
    "    print(\"Not a palindrome\")"
   ]
  },
  {
   "cell_type": "markdown",
   "id": "dcde4a7f",
   "metadata": {},
   "source": [
    "### In a portal login website, you are asked to write a function get_password_strength to decide the strength of a password. The strength is decided based on the total score of the password, Use following conditions:\n",
    "\n",
    "1) If password has length greater than 7 then score increases by one point.\n",
    "\n",
    "2) If password has at least one upper case and one lower case alphabets score increases by one point.\n",
    "\n",
    "3) If password has at least one number and no consecutive numbers like 12 or 234 then score increases by one point.\n",
    "\n",
    "4) If password has at least one special character (any character other than numbers and alphabets) then score increases by one point.\n",
    "\n",
    "5) If password contains username, then it is invalid password.\n",
    "\n",
    "If the password has score of four points, three points, two points, or one point then print Very Strong, Strong, Moderate, or Weak respectively. If the password is invalid, then print PASSWORD SHOULD NOT CONTAIN USERNAME and If the score is zero, then print 'Use a different password'.\n",
    "\n",
    "The arguments to the function are username and password which are already defined."
   ]
  },
  {
   "cell_type": "code",
   "execution_count": 36,
   "id": "2359a4dc",
   "metadata": {},
   "outputs": [
    {
     "data": {
      "text/plain": [
       "'moderate'"
      ]
     },
     "execution_count": 36,
     "metadata": {},
     "output_type": "execute_result"
    }
   ],
   "source": [
    "def get_password_strength(username,password):\n",
    "    score = 0\n",
    "    capital = 'ABCDEFGHIJKLMNOPQRSTUVWXYZ'\n",
    "    c_flag=False\n",
    "    small = 'abcdefghijklmnopqrstuvwxyz'\n",
    "    s_flag=False\n",
    "    n = '0123456789'\n",
    "    n_flag=False\n",
    "    nc_flag=True\n",
    "    \n",
    "    if username in password:\n",
    "        return \"PASSWORD SHOULD NOT CONTAIN USERNAME\"\n",
    "    if len(password) > 7:\n",
    "        score += 1\n",
    "    for i in range(len(password)):\n",
    "        if password[i] in small:\n",
    "            s_flag=True\n",
    "        elif password[i] in capital:\n",
    "            c_flag=True\n",
    "        elif password[i] in n:\n",
    "            n_flag=True\n",
    "        if n_flag:\n",
    "            if i!=len(password)-1:\n",
    "                if n[((n.index(password[i]))+1)]==password[i+1]:\n",
    "                    nc_flag=False\n",
    "    if c_flag and s_flag:\n",
    "                    score += 1\n",
    "    if n_flag and nc_flag:\n",
    "                    score += 1\n",
    "    if not password.isalnum():\n",
    "                    score += 1\n",
    "    if score==4:\n",
    "                    return \"very strong\"\n",
    "    if score==3:\n",
    "                    return \"strong\"\n",
    "    if score==2:\n",
    "                    return \"moderate\"\n",
    "    if score==1:\n",
    "                    return \"weak\"\n",
    "    if score==0:\n",
    "                    return \"use a different password\"\n",
    "\n",
    "get_password_strength('anjali','r@123T')      "
   ]
  },
  {
   "cell_type": "markdown",
   "id": "7b3b3eb2",
   "metadata": {},
   "source": [
    "### Decorator that logs the date and time"
   ]
  },
  {
   "cell_type": "code",
   "execution_count": 4,
   "id": "9ed1cfc5",
   "metadata": {},
   "outputs": [],
   "source": [
    "from datetime import datetime \n",
    "\n",
    "def log_datetime(func):\n",
    "    \n",
    "    def wrapper():\n",
    "        print(f'function: {func.__name__} \\nRun on {datetime.today().strftime(\"%Y-%m-%d %H:%M:%S\")}')\n",
    "        print(f'{\"-\"*30}')\n",
    "        func()\n",
    "    return wrapper\n",
    "    \n",
    "@log_datetime\n",
    "def daily_backup():\n",
    "    print(\"Daily backup has finished\")"
   ]
  },
  {
   "cell_type": "code",
   "execution_count": 5,
   "id": "71308206",
   "metadata": {},
   "outputs": [
    {
     "name": "stdout",
     "output_type": "stream",
     "text": [
      "function: daily_backup \n",
      "Run on 2023-05-25 09:55:02\n",
      "------------------------------\n",
      "Daily backup has finished\n"
     ]
    }
   ],
   "source": [
    "daily_backup()"
   ]
  },
  {
   "cell_type": "markdown",
   "id": "bb747a1e",
   "metadata": {},
   "source": [
    "### Do this with help of decorator:\n",
    "\n",
    "input: \"Hello world\" <br>\n",
    "output: [\"hello\", \"world\"]"
   ]
  },
  {
   "cell_type": "code",
   "execution_count": 12,
   "id": "bf39235d",
   "metadata": {},
   "outputs": [],
   "source": [
    "# decorator function to convert to lower case\n",
    "def lowercase_dec(function):\n",
    "    def wrapper():\n",
    "        func = function()\n",
    "        string_lowercase = func.lower()\n",
    "        return string_lowercase\n",
    "    return wrapper\n",
    "\n",
    "# decorator function to split words\n",
    "def splitter_dec(function):\n",
    "    def wrapper():\n",
    "        func = function()\n",
    "        string_split = func.split()\n",
    "        return string_split\n",
    "    return wrapper\n",
    "\n",
    "@splitter_dec\n",
    "@lowercase_dec\n",
    "def hello():\n",
    "    return \"HEllo world\""
   ]
  },
  {
   "cell_type": "code",
   "execution_count": 13,
   "id": "c1c4b43f",
   "metadata": {},
   "outputs": [
    {
     "data": {
      "text/plain": [
       "['hello', 'world']"
      ]
     },
     "execution_count": 13,
     "metadata": {},
     "output_type": "execute_result"
    }
   ],
   "source": [
    "hello()"
   ]
  },
  {
   "cell_type": "markdown",
   "id": "ad4cdb35",
   "metadata": {},
   "source": [
    "### Program to get data Items from a list appearing odd number of times"
   ]
  },
  {
   "cell_type": "code",
   "execution_count": 3,
   "id": "58e62028",
   "metadata": {},
   "outputs": [
    {
     "data": {
      "text/plain": [
       "[1, 9, 5]"
      ]
     },
     "execution_count": 3,
     "metadata": {},
     "output_type": "execute_result"
    }
   ],
   "source": [
    "def odd_occ(l):\n",
    "    l1 = []\n",
    "    for i in l:\n",
    "        if l.count(i)%2 != 0:\n",
    "            l1.append(i)\n",
    "    return l1\n",
    "\n",
    "odd_occ([2,3,4,7,8,1,9,3,4,8,5,2,7])"
   ]
  },
  {
   "cell_type": "markdown",
   "id": "2f9bd6c8",
   "metadata": {},
   "source": [
    "### Remove items from a list while iterating but without creating a different copy of a list. Remove numbers greater than 50.\n",
    "\n",
    "number_list = [10, 20, 30, 40, 50, 60, 70, 80, 90, 100]\n",
    "\n",
    "Expected Output: [10, 20, 30, 40, 50]"
   ]
  },
  {
   "cell_type": "code",
   "execution_count": 14,
   "id": "d7d99d88",
   "metadata": {},
   "outputs": [
    {
     "name": "stdout",
     "output_type": "stream",
     "text": [
      "[10, 20, 30, 40, 50]\n"
     ]
    }
   ],
   "source": [
    "l = [10, 20, 30, 40, 50, 60, 70, 80, 90, 100]\n",
    "l = [i for i in l if i <= 50]\n",
    "print(l)"
   ]
  },
  {
   "cell_type": "markdown",
   "id": "5f9e42d8",
   "metadata": {},
   "source": [
    "### Display all duplicate items from a list.\n",
    "\n",
    "sample_list = [10, 20, 60, 30, 20, 40, 30, 60, 70, 80]\n",
    "\n",
    "Expected Output: [20, 60, 30]"
   ]
  },
  {
   "cell_type": "code",
   "execution_count": 25,
   "id": "6774cb4d",
   "metadata": {},
   "outputs": [
    {
     "name": "stdout",
     "output_type": "stream",
     "text": [
      "[20, 60, 30]\n"
     ]
    }
   ],
   "source": [
    "# Method - 1\n",
    "l = [10, 20, 60, 30, 20, 40, 30, 60, 70, 80]\n",
    "\n",
    "l1 = []\n",
    "for i in l:\n",
    "    if l.count(i) >1:\n",
    "        l1.append(i)\n",
    "print(list(set(l1)))"
   ]
  },
  {
   "cell_type": "code",
   "execution_count": 1,
   "id": "2520d5d6",
   "metadata": {},
   "outputs": [
    {
     "name": "stdout",
     "output_type": "stream",
     "text": [
      "[20, 60, 30]\n"
     ]
    }
   ],
   "source": [
    "# Method - 2\n",
    "import collections\n",
    "\n",
    "l = [10, 20, 60, 30, 20, 40, 30, 60, 70, 80]\n",
    "\n",
    "duplicates = []\n",
    "\n",
    "for item, count in collections.Counter(l).items():\n",
    "    if count > 1:\n",
    "        duplicates.append(item)\n",
    "print(duplicates)"
   ]
  },
  {
   "cell_type": "markdown",
   "id": "6cf5de8b",
   "metadata": {},
   "source": [
    "### Create an outer function that will accept two strings, x and y. (x= 'Emma' and y = 'Kelly'. Create an inner function inside an outer function that will concatenate x and y.\n",
    "\n",
    "At last, an outer function will join the word 'developer' to it."
   ]
  },
  {
   "cell_type": "code",
   "execution_count": 3,
   "id": "486f679e",
   "metadata": {},
   "outputs": [
    {
     "data": {
      "text/plain": [
       "'abcxyzDeveloper'"
      ]
     },
     "execution_count": 3,
     "metadata": {},
     "output_type": "execute_result"
    }
   ],
   "source": [
    "def manipulate(x,y):\n",
    "    def inner_func(x,y):\n",
    "        return x + y\n",
    "    z = inner_func(x,y)\n",
    "    return z + 'Developer'\n",
    "\n",
    "manipulate('abc','xyz')"
   ]
  },
  {
   "cell_type": "markdown",
   "id": "578111bb",
   "metadata": {},
   "source": [
    "### Modify the element of a nested list inside the following list. Change the element 35 to 3500.\n",
    "\n",
    "list1 = [5, [10, 15, [20, 25, [30, 35], 40], 45], 50]"
   ]
  },
  {
   "cell_type": "code",
   "execution_count": 17,
   "id": "d95c6043",
   "metadata": {},
   "outputs": [
    {
     "name": "stdout",
     "output_type": "stream",
     "text": [
      "[5, [10, 15, [20, 25, [30, 3500], 40], 45], 50]\n"
     ]
    }
   ],
   "source": [
    "list1 = [5,[10,15,[20,25,[30,35],40],45],50]\n",
    "\n",
    "list1[1][2][2][1] = 3500\n",
    "print(list1)"
   ]
  },
  {
   "cell_type": "markdown",
   "id": "a5c91cd4",
   "metadata": {},
   "source": [
    "### Access the nested key increment from the following dictionary\n",
    "\n",
    "Access 12\n",
    "emp_dict = {\n",
    "    \"company\": {\n",
    "        \"employee\": {\n",
    "            \"name\": \"Jess\",\n",
    "            \"payable\": {\n",
    "                \"salary\": 9000,\n",
    "                \"increment\": 12\n",
    "            }\n",
    "        }\n",
    "    }\n",
    "}"
   ]
  },
  {
   "cell_type": "code",
   "execution_count": 22,
   "id": "56ff0cc6",
   "metadata": {},
   "outputs": [
    {
     "data": {
      "text/plain": [
       "12"
      ]
     },
     "execution_count": 22,
     "metadata": {},
     "output_type": "execute_result"
    }
   ],
   "source": [
    "emp_dict = {\n",
    "    \"company\": {\n",
    "        \"employee\": {\n",
    "            \"name\": \"Jess\",\n",
    "            \"payable\": {\n",
    "                \"salary\": 9000,\n",
    "                \"increment\": 12\n",
    "            }\n",
    "        }\n",
    "    }\n",
    "}\n",
    "\n",
    "emp_dict[\"company\"][\"employee\"][\"payable\"][\"increment\"]"
   ]
  },
  {
   "cell_type": "markdown",
   "id": "6257db62",
   "metadata": {},
   "source": [
    "### Print the sum of the current number and the previous number.\n",
    "\n",
    "Write a program to iterate the first 10 numbers and in each iteration, print the sum of the current and previous number.\n",
    "\n",
    "Printing current and previous number sum in a range(10)\n",
    "\n",
    "Current Number 0 Previous Number  0  Sum:  0  <br>\n",
    "Current Number 1 Previous Number  0  Sum:  1  <br>\n",
    "Current Number 2 Previous Number  1  Sum:  3  <br>\n",
    "Current Number 3 Previous Number  2  Sum:  5  <br>\n",
    "Current Number 4 Previous Number  3  Sum:  7  <br>\n",
    "Current Number 5 Previous Number  4  Sum:  9  <br>\n",
    "Current Number 6 Previous Number  5  Sum:  11 <br>\n",
    "Current Number 7 Previous Number  6  Sum:  13 <br>\n",
    "Current Number 8 Previous Number  7  Sum:  15 <br>\n",
    "Current Number 9 Previous Number  8  Sum:  17 "
   ]
  },
  {
   "cell_type": "code",
   "execution_count": 6,
   "id": "a748e69f",
   "metadata": {},
   "outputs": [
    {
     "name": "stdout",
     "output_type": "stream",
     "text": [
      "Current Number: 0 Previous Number 0 Sum: 0\n",
      "Current Number: 1 Previous Number 0 Sum: 1\n",
      "Current Number: 2 Previous Number 1 Sum: 3\n",
      "Current Number: 3 Previous Number 2 Sum: 5\n",
      "Current Number: 4 Previous Number 3 Sum: 7\n",
      "Current Number: 5 Previous Number 4 Sum: 9\n",
      "Current Number: 6 Previous Number 5 Sum: 11\n",
      "Current Number: 7 Previous Number 6 Sum: 13\n",
      "Current Number: 8 Previous Number 7 Sum: 15\n",
      "Current Number: 9 Previous Number 8 Sum: 17\n"
     ]
    }
   ],
   "source": [
    "def get_sum():\n",
    "    for i in range(10):\n",
    "        if i == 0:\n",
    "            print(f\"Current Number: {i} Previous Number {i} Sum: {i+i}\")\n",
    "        else:\n",
    "             print(f\"Current Number: {i} Previous Number {i-1} Sum: {i+i-1}\")\n",
    "                \n",
    "get_sum()"
   ]
  },
  {
   "cell_type": "markdown",
   "id": "30004529",
   "metadata": {},
   "source": [
    "### Print characters from a string that are present at an even index number.\n",
    "\n",
    "Write a program to accept a string from the user and display characters that are present at an even index number.\n",
    "\n",
    "For example, str = \"ineuron\" so you should display ‘i’, ‘e’, ‘r’, ‘n’."
   ]
  },
  {
   "cell_type": "code",
   "execution_count": 22,
   "id": "346e3400",
   "metadata": {},
   "outputs": [
    {
     "name": "stdout",
     "output_type": "stream",
     "text": [
      "anjali\n"
     ]
    },
    {
     "data": {
      "text/plain": [
       "['a', 'j', 'l']"
      ]
     },
     "execution_count": 22,
     "metadata": {},
     "output_type": "execute_result"
    }
   ],
   "source": [
    "s = input()\n",
    "\n",
    "def get_eve(s):\n",
    "    l = []\n",
    "    for i in range(len(s)):\n",
    "        if i % 2 == 0:\n",
    "            l.append(s[i])\n",
    "    return l\n",
    "\n",
    "get_eve(s)"
   ]
  },
  {
   "cell_type": "markdown",
   "id": "8e5c4d1f",
   "metadata": {},
   "source": [
    "### Print multiplication table form 1 to 10\n",
    "\n",
    "1  2 3 4 5 6 7 8 9 10          \n",
    "\n",
    "2  4 6 8 10 12 14 16 18 20     <br>   \n",
    "3  6 9 12 15 18 21 24 27 30    <br>      \n",
    "4  8 12 16 20 24 28 32 36 40   <br>      \n",
    "5  10 15 20 25 30 35 40 45 50  <br>      \n",
    "6  12 18 24 30 36 42 48 54 60  <br>      \n",
    "7  14 21 28 35 42 49 56 63 70  <br>      \n",
    "8  16 24 32 40 48 56 64 72 80  <br>      \n",
    "9  18 27 36 45 54 63 72 81 90  <br>      \n",
    "10 20 30 40 50 60 70 80 90 100 <br>"
   ]
  },
  {
   "cell_type": "code",
   "execution_count": 24,
   "id": "f37e899c",
   "metadata": {},
   "outputs": [
    {
     "name": "stdout",
     "output_type": "stream",
     "text": [
      "1  2  3  4  5  6  7  8  9  10  \n",
      "\n",
      "2  4  6  8  10  12  14  16  18  20  \n",
      "\n",
      "3  6  9  12  15  18  21  24  27  30  \n",
      "\n",
      "4  8  12  16  20  24  28  32  36  40  \n",
      "\n",
      "5  10  15  20  25  30  35  40  45  50  \n",
      "\n",
      "6  12  18  24  30  36  42  48  54  60  \n",
      "\n",
      "7  14  21  28  35  42  49  56  63  70  \n",
      "\n",
      "8  16  24  32  40  48  56  64  72  80  \n",
      "\n",
      "9  18  27  36  45  54  63  72  81  90  \n",
      "\n",
      "10  20  30  40  50  60  70  80  90  100  \n",
      "\n"
     ]
    }
   ],
   "source": [
    "def get_prod():\n",
    "    for i in range(1,11):\n",
    "        for j in range(1,11):\n",
    "            c = i*j\n",
    "            print(f\"{c} \",end=\" \")\n",
    "        print(\"\\n\")\n",
    "\n",
    "get_prod()"
   ]
  },
  {
   "cell_type": "markdown",
   "id": "2eb1cc20",
   "metadata": {},
   "source": [
    "### Remove duplicates from a list and create a tuple and find the minimum and maximum number.\n",
    "\n",
    "sample_list = [87, 45, 41, 65, 94, 41, 99, 94]\n",
    "\n",
    "Expected Outcome:  <br>\n",
    "unique items [87, 45, 65, 99]   <br>\n",
    "tuple (87, 45, 65, 99)  <br>\n",
    "min: 45  <br>\n",
    "max: 99"
   ]
  },
  {
   "cell_type": "code",
   "execution_count": 52,
   "id": "0cc48aec",
   "metadata": {},
   "outputs": [
    {
     "data": {
      "text/plain": [
       "99"
      ]
     },
     "execution_count": 52,
     "metadata": {},
     "output_type": "execute_result"
    }
   ],
   "source": [
    "def get_uniq(function):\n",
    "    def wrapper():\n",
    "        l1 = []\n",
    "        func = function()\n",
    "        for i in func:\n",
    "            if func.count(i) < 2:\n",
    "                l1.append(i)\n",
    "        return l1\n",
    "    return wrapper\n",
    "\n",
    "def get_tup(function):\n",
    "    def wrapper():\n",
    "        func = function()\n",
    "        return tuple(func)\n",
    "    return wrapper\n",
    "\n",
    "# def get_min(function):\n",
    "#     def wrapper():\n",
    "#         func = function()\n",
    "#         mini = min(func)\n",
    "#         return mini\n",
    "#     return wrapper\n",
    "\n",
    "def get_max(function):\n",
    "    def wrapper():\n",
    "        func = function()\n",
    "        maxim = max(func)\n",
    "        return maxim\n",
    "    return wrapper\n",
    "\n",
    "@get_max\n",
    "# @get_min\n",
    "@get_tup\n",
    "@get_uniq\n",
    "def get_list():\n",
    "    return [87, 45, 41, 65, 94, 41, 99, 94]\n",
    "    \n",
    "get_list()\n"
   ]
  },
  {
   "cell_type": "markdown",
   "id": "20409618",
   "metadata": {},
   "source": [
    "### Write a Python program to create a lambda function that adds 15 to a given number passed in as an argument, also create a lambda function that multiplies argument x with argument y and print the result."
   ]
  },
  {
   "cell_type": "code",
   "execution_count": 55,
   "id": "c17de9f0",
   "metadata": {},
   "outputs": [
    {
     "name": "stdout",
     "output_type": "stream",
     "text": [
      "25\n",
      "6\n"
     ]
    }
   ],
   "source": [
    "c = lambda a: a+15\n",
    "d = lambda x,y: x*y\n",
    "print(c(10))\n",
    "print(d(2,3))"
   ]
  },
  {
   "cell_type": "markdown",
   "id": "06a13838",
   "metadata": {},
   "source": [
    "### Write a Python program to sort a list of tuples using Lambda."
   ]
  },
  {
   "cell_type": "code",
   "execution_count": 60,
   "id": "e8d42ef6",
   "metadata": {},
   "outputs": [
    {
     "data": {
      "text/plain": [
       "[(2, 5), (2, 9, 3), (7, 4)]"
      ]
     },
     "execution_count": 60,
     "metadata": {},
     "output_type": "execute_result"
    }
   ],
   "source": [
    "s = lambda x: sorted(x)\n",
    "s([(2,9,3),(2,5),(7,4)])"
   ]
  },
  {
   "cell_type": "markdown",
   "id": "7ef33efa",
   "metadata": {},
   "source": [
    "### Write a python program to extract year, month, date and time using Lambda."
   ]
  },
  {
   "cell_type": "code",
   "execution_count": 64,
   "id": "ba27ae53",
   "metadata": {},
   "outputs": [
    {
     "name": "stdout",
     "output_type": "stream",
     "text": [
      "2023-05-27 12:27:40.886465\n",
      "2023\n",
      "5\n",
      "27\n",
      "12:27:40.886465\n"
     ]
    }
   ],
   "source": [
    "import datetime\n",
    "now = datetime.datetime.now()\n",
    "print(now)\n",
    "\n",
    "year = lambda i: i.year\n",
    "month = lambda i: i.month\n",
    "day = lambda i: i.day\n",
    "time = lambda i: i.time()\n",
    "\n",
    "print(year(now))\n",
    "print(month(now))\n",
    "print(day(now))\n",
    "print(time(now))"
   ]
  },
  {
   "cell_type": "markdown",
   "id": "502a097e",
   "metadata": {},
   "source": [
    "### Write a python program to count the even, odd numbers in a given array of integers using Lambda."
   ]
  },
  {
   "cell_type": "code",
   "execution_count": 81,
   "id": "23aa6e80",
   "metadata": {},
   "outputs": [
    {
     "name": "stdout",
     "output_type": "stream",
     "text": [
      "Total even no.'s: 4\n",
      "Total odd no.'s: 5\n"
     ]
    }
   ],
   "source": [
    "l = [1,2,3,4,5,6,7,8,9]\n",
    "\n",
    "even = len(list(filter(lambda x : x%2 == 0, l)))\n",
    "odd = len(list(filter(lambda x : x%2 != 0, l)))\n",
    "\n",
    "print(f\"Total even no.'s: {even}\")\n",
    "print(f\"Total odd no.'s: {odd}\")"
   ]
  },
  {
   "cell_type": "markdown",
   "id": "58335782",
   "metadata": {},
   "source": [
    "### Write a Python program to convert all the characters in uppercase and lowercase.\n",
    "\n",
    "Use map() function."
   ]
  },
  {
   "cell_type": "code",
   "execution_count": 92,
   "id": "a2a45932",
   "metadata": {},
   "outputs": [
    {
     "name": "stdout",
     "output_type": "stream",
     "text": [
      "[('A', 'a'), ('B', 'b'), ('Y', 'y'), ('C', 'c')]\n"
     ]
    }
   ],
   "source": [
    "chars = ['A', 'b', 'Y', 'c']\n",
    "\n",
    "def get_upper(s):\n",
    "    return str(s).upper(), str(s).lower()\n",
    "\n",
    "print(list(map(get_upper,chars)))"
   ]
  },
  {
   "cell_type": "markdown",
   "id": "d73e174a",
   "metadata": {},
   "source": [
    "### Write a python program to square the elements of a list using map() function."
   ]
  },
  {
   "cell_type": "code",
   "execution_count": 89,
   "id": "68d32045",
   "metadata": {},
   "outputs": [
    {
     "name": "stdout",
     "output_type": "stream",
     "text": [
      "[1, 4, 9, 16, 25]\n"
     ]
    }
   ],
   "source": [
    "l = [1,2,3,4,5]\n",
    "\n",
    "def get_sq(x):\n",
    "    return x*x\n",
    "\n",
    "print(list(map(get_sq,l)))"
   ]
  }
 ],
 "metadata": {
  "kernelspec": {
   "display_name": "Python 3 (ipykernel)",
   "language": "python",
   "name": "python3"
  },
  "language_info": {
   "codemirror_mode": {
    "name": "ipython",
    "version": 3
   },
   "file_extension": ".py",
   "mimetype": "text/x-python",
   "name": "python",
   "nbconvert_exporter": "python",
   "pygments_lexer": "ipython3",
   "version": "3.9.12"
  }
 },
 "nbformat": 4,
 "nbformat_minor": 5
}
