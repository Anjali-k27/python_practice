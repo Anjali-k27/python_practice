{
 "cells": [
  {
   "cell_type": "markdown",
   "metadata": {},
   "source": [
    "### List comprehensions"
   ]
  },
  {
   "cell_type": "markdown",
   "metadata": {},
   "source": [
    "List comprehensions are more concise and faster than traditional loops because they are optimized for Python's internal function calls."
   ]
  },
  {
   "cell_type": "code",
   "execution_count": null,
   "metadata": {},
   "outputs": [],
   "source": [
    "# Inefficient \n",
    "squares = []\n",
    "for x in range(10):\n",
    "    squares.append(x**2)\n",
    "\n",
    "# Efficient\n",
    "squares = [x**2 for x in range(10)]"
   ]
  },
  {
   "cell_type": "markdown",
   "metadata": {},
   "source": [
    "### Use Built-in functions"
   ]
  },
  {
   "cell_type": "markdown",
   "metadata": {},
   "source": [
    "Built-in functions like sum are implemented in C and are faster than manual loops written in Python."
   ]
  },
  {
   "cell_type": "code",
   "execution_count": 1,
   "metadata": {},
   "outputs": [],
   "source": [
    "# Inefficient\n",
    "total = 0\n",
    "for x in range(10):\n",
    "    total += x\n",
    "\n",
    "# Efficient\n",
    "total = sum(range(10))"
   ]
  },
  {
   "cell_type": "markdown",
   "metadata": {},
   "source": [
    "### Use 'Join' for string concatenation"
   ]
  },
  {
   "cell_type": "markdown",
   "metadata": {},
   "source": [
    "'join' is faster because it involves fewer intermediate copies of the string. Using + repeatedly creates new string objects, which is inefficient. join avoids this by creating only one final string."
   ]
  },
  {
   "cell_type": "code",
   "execution_count": 2,
   "metadata": {},
   "outputs": [],
   "source": [
    "# Inefficient\n",
    "sentence = \"\"\n",
    "for word in [\"Hello\", \"world\"]:\n",
    "    sentence += word + \" \"\n",
    "\n",
    "# Efficient\n",
    "sentence = \" \".join([\"Hello\", \"world\"])"
   ]
  },
  {
   "cell_type": "markdown",
   "metadata": {},
   "source": [
    "### Use 'Enumerate' for counters"
   ]
  },
  {
   "cell_type": "markdown",
   "metadata": {},
   "source": [
    "'enumerate' eliminates the need to manually increment a counter, making the code cleaner and potentially faster."
   ]
  },
  {
   "cell_type": "code",
   "execution_count": 3,
   "metadata": {},
   "outputs": [
    {
     "name": "stdout",
     "output_type": "stream",
     "text": [
      "0 a\n",
      "1 b\n",
      "2 c\n",
      "0 a\n",
      "1 b\n",
      "2 c\n"
     ]
    }
   ],
   "source": [
    "# Inefficient\n",
    "i = 0\n",
    "for value in [\"a\", \"b\", \"c\"]:\n",
    "    print(i, value)\n",
    "    i += 1\n",
    "\n",
    "# Efficient\n",
    "for i, value in enumerate([\"a\", \"b\", \"c\"]):\n",
    "    print(i, value)"
   ]
  },
  {
   "cell_type": "markdown",
   "metadata": {},
   "source": [
    "### Use 'Zip' to iterate in parallel "
   ]
  },
  {
   "cell_type": "markdown",
   "metadata": {},
   "source": [
    "'zip' is more readable and efficient because it handles the iteration internally in C."
   ]
  },
  {
   "cell_type": "code",
   "execution_count": 4,
   "metadata": {},
   "outputs": [
    {
     "name": "stdout",
     "output_type": "stream",
     "text": [
      "Alice 25\n",
      "Bob 30\n",
      "Charlie 35\n",
      "Alice 25\n",
      "Bob 30\n",
      "Charlie 35\n"
     ]
    }
   ],
   "source": [
    "# Inefficient\n",
    "names = [\"Alice\", \"Bob\", \"Charlie\"]\n",
    "ages = [25, 30, 35]\n",
    "for i in range(len(names)):\n",
    "    print(names[i], ages[i])\n",
    "\n",
    "# Efficient\n",
    "for name, age in zip(names, ages):\n",
    "    print(name, age)"
   ]
  },
  {
   "cell_type": "markdown",
   "metadata": {},
   "source": [
    "### Use 'Map' for applying functions to iterables "
   ]
  },
  {
   "cell_type": "markdown",
   "metadata": {},
   "source": [
    "'map' is faster because it applies the function at C speed rather than Python loop speed."
   ]
  },
  {
   "cell_type": "code",
   "execution_count": 5,
   "metadata": {},
   "outputs": [],
   "source": [
    "# Inefficient\n",
    "result = []\n",
    "for x in range(10):\n",
    "    result.append(str(x))\n",
    "\n",
    "# Efficient\n",
    "result = list(map(str, range(10)))"
   ]
  },
  {
   "cell_type": "markdown",
   "metadata": {},
   "source": [
    "### Use 'Filter' for filtering data"
   ]
  },
  {
   "cell_type": "markdown",
   "metadata": {},
   "source": [
    "'filter' is implemented in C and often faster and more readable than equivalent loops."
   ]
  },
  {
   "cell_type": "code",
   "execution_count": 6,
   "metadata": {},
   "outputs": [],
   "source": [
    "# Inefficient\n",
    "evens = []\n",
    "for x in range(10):\n",
    "    if x % 2 == 0:\n",
    "        evens.append(x)\n",
    "\n",
    "# Efficient\n",
    "evens = list(filter(lambda x: x % 2 == 0, range(10)))"
   ]
  },
  {
   "cell_type": "markdown",
   "metadata": {},
   "source": [
    "### Use 'Any' and 'All' for logical checks"
   ]
  },
  {
   "cell_type": "markdown",
   "metadata": {},
   "source": [
    "'any' and 'all' short-circuit and stop processing as soon as the result is determined, making them faster than loops."
   ]
  },
  {
   "cell_type": "code",
   "execution_count": 7,
   "metadata": {},
   "outputs": [],
   "source": [
    "# Inefficient\n",
    "found = False\n",
    "for x in range(10):\n",
    "    if x > 5:\n",
    "        found = True\n",
    "        break\n",
    "\n",
    "# Efficient\n",
    "found = any(x > 5 for x in range(10))"
   ]
  },
  {
   "cell_type": "markdown",
   "metadata": {},
   "source": [
    "### Timeit"
   ]
  },
  {
   "cell_type": "markdown",
   "metadata": {},
   "source": [
    "'timeit' provides an accurate way to measure the execution time of small code snippets, helping to identify performance bottlenecks. timeit runs the code snippet multiple times and averages the time, reducing the impact of anomalies and providing a more accurate measurement. timeit uses a higher precision timer (time.perf_counter() or time.process_time()) which provides more accurate measurements for short durations."
   ]
  },
  {
   "cell_type": "code",
   "execution_count": 14,
   "metadata": {},
   "outputs": [
    {
     "name": "stdout",
     "output_type": "stream",
     "text": [
      "Time taken: 0.27522802352905273\n",
      "Average time taken over 10 runs: 0.26051169000566005\n"
     ]
    }
   ],
   "source": [
    "import timeit\n",
    "import time \n",
    "\n",
    "# Inefficient\n",
    "start = time.time()\n",
    "result = [x**2 for x in range(10**6)]\n",
    "end = time.time()\n",
    "print(f\"Time taken: {end - start}\")\n",
    "\n",
    "# Efficient\n",
    "execution_time = timeit.timeit('[x**2 for x in range(10**6)]', number=10)\n",
    "print(f\"Average time taken over 10 runs: {execution_time / 10}\")"
   ]
  },
  {
   "cell_type": "markdown",
   "metadata": {},
   "source": [
    "### Use Pandas for data manipulation"
   ]
  },
  {
   "cell_type": "markdown",
   "metadata": {},
   "source": [
    "'pandas' is optimized for data manipulation tasks and is typically much faster and more concise than writing equivalent code using lists or loops."
   ]
  },
  {
   "cell_type": "code",
   "execution_count": 12,
   "metadata": {},
   "outputs": [],
   "source": [
    "import pandas as pd\n",
    "\n",
    "# Inefficient\n",
    "data = [[1, 2], [3, 4], [5, 6]]\n",
    "result = []\n",
    "for row in data:\n",
    "    result.append([x*2 for x in row])\n",
    "\n",
    "# Efficient\n",
    "df = pd.DataFrame(data)\n",
    "result = df * 2"
   ]
  },
  {
   "cell_type": "markdown",
   "metadata": {},
   "source": [
    "### Numpy arrays"
   ]
  },
  {
   "cell_type": "markdown",
   "metadata": {},
   "source": []
  },
  {
   "cell_type": "code",
   "execution_count": null,
   "metadata": {},
   "outputs": [],
   "source": []
  }
 ],
 "metadata": {
  "kernelspec": {
   "display_name": "Python 3",
   "language": "python",
   "name": "python3"
  },
  "language_info": {
   "codemirror_mode": {
    "name": "ipython",
    "version": 3
   },
   "file_extension": ".py",
   "mimetype": "text/x-python",
   "name": "python",
   "nbconvert_exporter": "python",
   "pygments_lexer": "ipython3",
   "version": "3.10.7"
  }
 },
 "nbformat": 4,
 "nbformat_minor": 2
}
