{
 "cells": [
  {
   "cell_type": "markdown",
   "metadata": {
    "id": "iKAWX0vSqQGT"
   },
   "source": [
    "**Question-1:**\n",
    "\n",
    "You have to find and print the smallest element of the list given as input. \n",
    "\n",
    "----------------------------------------------------------------------\n",
    "Input:\n",
    "A non-empty list of integers.\n",
    "\n",
    "Output:\n",
    "The smallest integer of the input list.\n",
    "\n",
    "----------------------------------------------------------------------\n",
    "Sample input:\n",
    "[2, -3, 0, 7, 21]\n",
    "\n",
    "Sample output:\n",
    "-3"
   ]
  },
  {
   "cell_type": "code",
   "execution_count": 4,
   "metadata": {
    "colab": {
     "base_uri": "https://localhost:8080/"
    },
    "id": "qsGTQ-rYqaj9",
    "outputId": "60c79504-b931-44ac-d3da-d62d2405eebc"
   },
   "outputs": [
    {
     "name": "stdout",
     "output_type": "stream",
     "text": [
      "[2, -3, 0, 7, 21]\n",
      "-3\n"
     ]
    }
   ],
   "source": [
    "# Method 1\n",
    "numbers = input()\n",
    "\n",
    "import ast\n",
    "input_list = ast.literal_eval(numbers)\n",
    "\n",
    "min = 0\n",
    "for num in input_list:\n",
    "    if num<0:\n",
    "        min = num\n",
    "print(min)\n",
    "    "
   ]
  },
  {
   "cell_type": "code",
   "execution_count": 13,
   "metadata": {},
   "outputs": [
    {
     "data": {
      "text/plain": [
       "-3"
      ]
     },
     "execution_count": 13,
     "metadata": {},
     "output_type": "execute_result"
    }
   ],
   "source": [
    "# Method 2\n",
    "l = [2,-3,0,7,21]\n",
    "\n",
    "min(l)"
   ]
  },
  {
   "cell_type": "code",
   "execution_count": 9,
   "metadata": {},
   "outputs": [
    {
     "data": {
      "text/plain": [
       "0"
      ]
     },
     "execution_count": 9,
     "metadata": {},
     "output_type": "execute_result"
    }
   ],
   "source": [
    "# Method 3\n",
    "def get_min(l):\n",
    "    min = 0\n",
    "    for i in l:\n",
    "        if i < min:\n",
    "            min = i\n",
    "    return min\n",
    "\n",
    "get_min([2,-3,0,7,21])"
   ]
  },
  {
   "cell_type": "markdown",
   "metadata": {
    "id": "1PJKMhgtq_Zk"
   },
   "source": [
    "**Question-2:**\n",
    "\n",
    "Finding the average of the data and comparing it with other values is often encountered while analysing the data. Here you will do the same thing. The data will be provided to you in a list. You will also be given a number check.  You will return whether the number check is above average or no.\n",
    "\n",
    "----------------------------------------------------------------------\n",
    "Input:\n",
    "A list with two elements:\n",
    "The first element will be the list of data of integers and\n",
    "The second element will be an integer check.\n",
    "\n",
    "Output:\n",
    "True if check is above average and False otherwise\n",
    "\n",
    "----------------------------------------------------------------------\n",
    "Sample input:\n",
    "[ [2,4,6,8,10],  4]\n",
    "\n",
    "Sample output:\n",
    "False\n",
    "\n",
    "----------------------------------------------------------------------\n",
    "Sample input:\n",
    "[ [2,4,6,8,-10],  4]\n",
    "\n",
    "Sample output:\n",
    "True"
   ]
  },
  {
   "cell_type": "code",
   "execution_count": 30,
   "metadata": {
    "colab": {
     "base_uri": "https://localhost:8080/"
    },
    "id": "qdMKgw98rICO",
    "outputId": "fbedc90a-b50f-43a1-89b8-962926e46742"
   },
   "outputs": [
    {
     "name": "stdout",
     "output_type": "stream",
     "text": [
      "[[2,4,6,8,-10],4]\n",
      "True\n"
     ]
    }
   ],
   "source": [
    "# Method 1\n",
    "b = input()\n",
    "\n",
    "import ast\n",
    "a = ast.literal_eval(b)\n",
    "\n",
    "data = a[0]\n",
    "check = a[1]\n",
    "\n",
    "sum = 0\n",
    "count = 0\n",
    "for num in data:\n",
    "    sum = sum + num\n",
    "    count = count + 1\n",
    "res = int(sum/count)\n",
    "if res<check:\n",
    "    print('True')\n",
    "else:\n",
    "    print('False')"
   ]
  },
  {
   "cell_type": "code",
   "execution_count": 19,
   "metadata": {},
   "outputs": [
    {
     "name": "stdout",
     "output_type": "stream",
     "text": [
      "True\n"
     ]
    }
   ],
   "source": [
    "# Method 2\n",
    "def get_above_avg(l):\n",
    "    av = sum(l[0])/len(l[0])\n",
    "    if av < l[1]:\n",
    "        print('True')\n",
    "    else:\n",
    "        print('False')\n",
    "        \n",
    "get_above_avg([[2,4,6,8,-10],4])"
   ]
  },
  {
   "cell_type": "markdown",
   "metadata": {
    "id": "NPcOl3ISr0NT"
   },
   "source": [
    "**Question-3:**\n",
    "\n",
    "Write a code to remove duplicate elements from a list\n",
    "\n",
    "\n",
    "----------------------------------------------------------------------\n",
    "\n",
    "Input:\n",
    "\n",
    "[12, 36, 56, 36, 36, 50, 56, 12] \n",
    "\n",
    "\n",
    "Output:\n",
    "\n",
    "[12, 36, 56, 50] \n"
   ]
  },
  {
   "cell_type": "code",
   "execution_count": 35,
   "metadata": {
    "colab": {
     "base_uri": "https://localhost:8080/"
    },
    "id": "IlNGwgCOr9DF",
    "outputId": "d8c1421b-25c2-4361-b271-afdfa4e587c2"
   },
   "outputs": [
    {
     "name": "stdout",
     "output_type": "stream",
     "text": [
      "[12, 36, 56, 36, 36, 50, 56, 12]\n",
      "[12, 36, 56, 50]\n"
     ]
    }
   ],
   "source": [
    "# Method 2\n",
    "a = input()\n",
    "\n",
    "import ast\n",
    "l = ast.literal_eval(a)\n",
    "\n",
    "l1 = []\n",
    "for i in l:\n",
    "    if i in l1:\n",
    "        pass\n",
    "    else:\n",
    "        l1.append(i)\n",
    "print(l1)"
   ]
  },
  {
   "cell_type": "code",
   "execution_count": 20,
   "metadata": {},
   "outputs": [
    {
     "data": {
      "text/plain": [
       "[12, 36, 56, 50]"
      ]
     },
     "execution_count": 20,
     "metadata": {},
     "output_type": "execute_result"
    }
   ],
   "source": [
    "#Method 2\n",
    "def rem_dup(l):\n",
    "    l1 = []\n",
    "    for i in l:\n",
    "        if i in l1:\n",
    "            continue\n",
    "        else:\n",
    "            l1.append(i)\n",
    "    return l1\n",
    "\n",
    "rem_dup([12,36,56,36,36,50,56,12])"
   ]
  },
  {
   "cell_type": "markdown",
   "metadata": {
    "id": "7ABPjz0XsMzN"
   },
   "source": [
    "**Question-4:**\n",
    "\n",
    "You are planning to go to your friend's wedding and you have long events all month, lasting at least a few days. You have the start and end dates of events and your task is to find out events overlapping with the wedding date.\n",
    "\n",
    "The code for taking input has already been written for you, please don't modify that, but do read and try to understand the way input has been taken. You will be asked to take input on your own for most of the problems here onwards. Taking data in a suitable format is an important skill for a Data Scientist.\n",
    "\n",
    "----------------------------------------------------------------------\n",
    "Input:\n",
    "The input will contain a list of lists where each sub-list has only two elements representing the start and end date of an event, the start date will be less than or equal to the end date. The next line of input will have a wedding date. \n",
    "\n",
    "Output:\n",
    "The output should have the number of events overlapping with the wedding date.\n",
    "\n",
    "----------------------------------------------------------------------\n",
    "Sample input:\n",
    "\n",
    "[ [29,31], [23,26], [24,25] ]\n",
    "\n",
    "24\n",
    "\n",
    "Sample output:\n",
    "2\n",
    "\n",
    "Explanation:\n",
    "There are three events in the month.\n",
    "Event 1= from date 29 to 31\n",
    "Event 2= from date 23 to 26\n",
    "Event 3= from date 24 to 25\n",
    "Wedding is on 24. This means it will clash with Event 3 and Event 2, that is two events. The output is therefore 2.\n",
    "\n",
    "----------------------------------------------------------------------\n",
    "Sample input:\n",
    "\n",
    "[ [1, 4], [7, 10], [8, 8], [14, 23] ]\n",
    "\n",
    "26\n",
    "\n",
    "Sample output:\n",
    "0\n",
    "\n"
   ]
  },
  {
   "cell_type": "code",
   "execution_count": 46,
   "metadata": {
    "colab": {
     "base_uri": "https://localhost:8080/"
    },
    "id": "YBT93c-VsSIL",
    "outputId": "c871662f-f585-46d5-a053-b3beece60124"
   },
   "outputs": [
    {
     "name": "stdout",
     "output_type": "stream",
     "text": [
      "[ [29,31], [23,26], [24,25] ]\n",
      "24\n",
      "2\n"
     ]
    }
   ],
   "source": [
    "events_timeline = input()\n",
    "\n",
    "import ast\n",
    "events = ast.literal_eval(events_timeline)\n",
    "\n",
    "wedding = int(input())\n",
    "\n",
    "clash = 0\n",
    "for event in events:\n",
    "    if event[0]<=wedding and event[1]>=wedding:\n",
    "        clash = clash + 1\n",
    "print(clash) "
   ]
  },
  {
   "cell_type": "markdown",
   "metadata": {
    "id": "1MKFtqN4Ir5q"
   },
   "source": [
    "**Question-5:**\n",
    "\n",
    "You will be given two positive integers m and n. You have to make a list of lists (which can be visualised as a matrix) of size m*n, that is m sublists (rows), with each sublists having n integers (columns). The matrix should be such that it should have 1 on the border and 0 everywhere else. See sample input and output for more clarification.\n",
    "\n",
    "----------------------------------------------------------------------\n",
    "Input:\n",
    "Two integers separated by a space\n",
    "\n",
    "Output:\n",
    "A list of lists of size m*n printed like matrix as shown in the sample output.\n",
    "\n",
    "----------------------------------------------------------------------\n",
    "Sample input:\n",
    "4,5\n",
    "\n",
    "Sample output:\n",
    "\n",
    "[1, 1, 1, 1, 1]\n",
    "\n",
    "[1, 0, 0, 0, 1]\n",
    "\n",
    "[1, 0, 0, 0, 1]\n",
    "\n",
    "[1, 1, 1, 1, 1]\n",
    "\n",
    "----------------------------------------------------------------------\n",
    "Sample input:\n",
    "3,3\n",
    "\n",
    "Sample output:\n",
    "\n",
    "[1, 1, 1]\n",
    "\n",
    "[1, 0, 1]\n",
    "\n",
    "[1, 1, 1]\n",
    "\n",
    "----------------------------------------------------------------------\n",
    "Sample input:\n",
    "3,2\n",
    "\n",
    "Sample output:\n",
    "\n",
    "[1, 1]\n",
    "\n",
    "[1, 1]\n",
    "\n",
    "[1, 1]\n"
   ]
  },
  {
   "cell_type": "code",
   "execution_count": null,
   "metadata": {
    "colab": {
     "base_uri": "https://localhost:8080/"
    },
    "id": "RSiTGjDDI-7m",
    "outputId": "da501f60-667d-4f30-e027-0bc2a09d0304"
   },
   "outputs": [],
   "source": []
  },
  {
   "cell_type": "markdown",
   "metadata": {
    "id": "RV0yPJG-PGZM"
   },
   "source": [
    "**Question-6:**\n",
    "\n",
    "Write a Python program to divide a given list into chunks of size k.\n",
    "\n",
    "The number of elements in the list need not to be divisible by k.\n",
    "For example, if you want to divide the list [1,2,3,4,5,6,7] into chunk size k=4, then the first chunk will be [1,2,3,4] and the second one will have [5,6,7]. i.e. the last chunk need not have k elements.\n",
    "The input will have two lines, the first line would have the list and the second line would have the value of k.(the code for taking input has already been written, you should not change that)\n",
    "The final output should have the list chunks in different lines.\n",
    "\n",
    "Sample Input:\n",
    "\n",
    "[[1,2,3,4,5,6,7,8,9], 3]\n",
    "\n",
    "Sample Output:\n",
    "\n",
    "[1, 2, 3]\n",
    "[4, 5, 6]\n",
    "[7, 8, 9]"
   ]
  },
  {
   "cell_type": "code",
   "execution_count": 56,
   "metadata": {
    "colab": {
     "base_uri": "https://localhost:8080/"
    },
    "id": "rwVyMmqoPOJ3",
    "outputId": "268cc120-90af-435d-97df-cd4dd46c1e14"
   },
   "outputs": [
    {
     "name": "stdout",
     "output_type": "stream",
     "text": [
      "[[1,2,3,4,5,6,7,8,9], 3]\n",
      "[1, 2, 3]\n",
      "[4, 5, 6]\n",
      "[7, 8, 9]\n"
     ]
    }
   ],
   "source": [
    "lis = input()\n",
    "\n",
    "import ast\n",
    "l1 = ast.literal_eval(lis)\n",
    "\n",
    "l = l1[0]\n",
    "k = l1[1]\n",
    "\n",
    "for i in range(0,len(l),k):\n",
    "    print(l[i:i+k])\n",
    "    "
   ]
  },
  {
   "cell_type": "markdown",
   "metadata": {
    "id": "I2uR6LFqQs6W"
   },
   "source": [
    "**Question - 7**\n",
    "\n",
    "Given a list of numbers, find the second largest number in the list.\n",
    "\n",
    "Note: There might be repeated numbers in the list. If there is only one number present in the list, return 'not present'.\n",
    "\n",
    "Examples:\n",
    "\n",
    "Input 1:\n",
    "\n",
    "[7, 2, 0, 9, -1, 8]\n",
    "\n",
    "Output 1:\n",
    "\n",
    "8\n",
    "\n",
    "Input 2:\n",
    "\n",
    "[3, 1, 4, 4, 5, 5, 5, 0, 2, 2]\n",
    "\n",
    "Output 2:\n",
    "\n",
    "4\n",
    "\n",
    "Input 2:\n",
    "\n",
    "[6, 6, 6, 6, 6]\n",
    "\n",
    "Output 2:\n",
    "\n",
    "not present"
   ]
  },
  {
   "cell_type": "code",
   "execution_count": 69,
   "metadata": {
    "colab": {
     "base_uri": "https://localhost:8080/"
    },
    "id": "to7W1H3eQ-ea",
    "outputId": "73d7407e-21f5-4755-ef1c-f6cd0d92846c"
   },
   "outputs": [
    {
     "name": "stdout",
     "output_type": "stream",
     "text": [
      "5\n"
     ]
    }
   ],
   "source": [
    "l = [6,6,6,6,5]\n",
    "\n",
    "max = 0\n",
    "next_max = 0\n",
    "for i in l:\n",
    "    if max<i:\n",
    "        max = i\n",
    "for i in l:\n",
    "    if i<max and i>next_max:\n",
    "        next_max = i\n",
    "print(next_max)"
   ]
  },
  {
   "cell_type": "code",
   "execution_count": 72,
   "metadata": {},
   "outputs": [
    {
     "name": "stdout",
     "output_type": "stream",
     "text": [
      "not present\n"
     ]
    }
   ],
   "source": [
    "l = [6,6,6,6]\n",
    "\n",
    "if len(set(l))<=1:\n",
    "    print('not present')\n",
    "else:\n",
    "    print(sorted(list(set(l)))[-2])"
   ]
  },
  {
   "cell_type": "markdown",
   "metadata": {
    "id": "ChlXvIQZRVjW"
   },
   "source": [
    "**Question - 8**\n",
    "\n",
    "Given a positive integer n. Print the pattern as shown in sample outputs.\n",
    "\n",
    "A code has already been provided. You have to understand the logic of the code on your own and try and make changes to the code so that it gives correct output.\n",
    "\n",
    "\n",
    "\n",
    "Input: A positive integer n\n",
    "\n",
    "1<= n <=9\n",
    "\n",
    "\n",
    "\n",
    "Output: Pattern as shown in examples below\n",
    "\n",
    "\n",
    "\n",
    "\n",
    "\n",
    "Sample input:\n",
    "\n",
    "4\n",
    "\n",
    "\n",
    "\n",
    "Sample output:\n",
    "\n",
    "4444444\n",
    "\n",
    "4333334\n",
    "\n",
    "4322234\n",
    "\n",
    "4321234\n",
    "\n",
    "4322234\n",
    "\n",
    "4333334\n",
    "\n",
    "4444444\n",
    "\n",
    "\n",
    "\n",
    "Sample input:\n",
    "\n",
    "5\n",
    "\n"
   ]
  },
  {
   "cell_type": "code",
   "execution_count": null,
   "metadata": {
    "colab": {
     "base_uri": "https://localhost:8080/"
    },
    "id": "cvxUytsgRcw_",
    "outputId": "bcfed65f-ed56-440f-b7c9-536fad9d9d9a"
   },
   "outputs": [
    {
     "name": "stdout",
     "output_type": "stream",
     "text": [
      "4\n",
      "4444444\n",
      "4333334\n",
      "4322234\n",
      "4321234\n",
      "4322234\n",
      "4333334\n",
      "4444444\n"
     ]
    }
   ],
   "source": []
  },
  {
   "cell_type": "markdown",
   "metadata": {
    "id": "O8efzrIFApNd"
   },
   "source": [
    "**Question-9**\n",
    "\n",
    "Write a code to get the first element from each nested list of a list\n",
    "\n",
    "Input:\n",
    "\n",
    "[[15, 78, 4],['C#',80,7],['Go','Rust','C++'],['Python',12]]\n",
    "\n",
    "\n",
    "Output:\n",
    "\n",
    "[15, 'C#', 'Go', 'Python']\n"
   ]
  },
  {
   "cell_type": "code",
   "execution_count": 81,
   "metadata": {
    "colab": {
     "base_uri": "https://localhost:8080/"
    },
    "id": "xCLIWRopAzmQ",
    "outputId": "641dc1b9-8b1c-4b55-a8e5-ed8ea9ee0b9d"
   },
   "outputs": [
    {
     "name": "stdout",
     "output_type": "stream",
     "text": [
      "[[15, 78, 4],['C#',80,7],['Go','Rust','C++'],['Python',12]]\n",
      "[15, 'C#', 'Go', 'Python']\n"
     ]
    }
   ],
   "source": [
    "# Method 1\n",
    "input_str = input()\n",
    "\n",
    "import ast\n",
    "input_list = ast.literal_eval(input_str)\n",
    "\n",
    "l1 = []\n",
    "for i in input_list:\n",
    "    l1.append(i[0])\n",
    "print(l1)"
   ]
  },
  {
   "cell_type": "code",
   "execution_count": 2,
   "metadata": {},
   "outputs": [
    {
     "data": {
      "text/plain": [
       "[15, 'C#', 'Go', 'Python']"
      ]
     },
     "execution_count": 2,
     "metadata": {},
     "output_type": "execute_result"
    }
   ],
   "source": [
    "# Method 2\n",
    "def get_first(l):\n",
    "    l1 = []\n",
    "    for i in l:\n",
    "        l1.append(i[0])\n",
    "    return l1\n",
    "\n",
    "get_first([[15, 78, 4],['C#',80,7],['Go','Rust','C++'],['Python',12]])"
   ]
  },
  {
   "cell_type": "code",
   "execution_count": 4,
   "metadata": {},
   "outputs": [
    {
     "name": "stdout",
     "output_type": "stream",
     "text": [
      "[15, 'C#', 'Go', 'Python']\n"
     ]
    }
   ],
   "source": [
    "# Method 3\n",
    "l = [[15, 78, 4],['C#',80,7],['Go','Rust','C++'],['Python',12]]\n",
    "print([i[0] for i in l])"
   ]
  },
  {
   "cell_type": "markdown",
   "metadata": {
    "id": "MIwCRdtxfMWr"
   },
   "source": [
    "**Question-10:**\n",
    "\n",
    "Return a set of elements present in Set A or B, but not both\n",
    "\n",
    "\n",
    "Input: \n",
    "\n",
    "setA = {10, 20, 30, 40, 50}\n",
    "\n",
    "setB = {30, 40, 50, 60, 70}\n",
    "\n",
    "\n",
    "Ouput:\n",
    "\n",
    "{20, 70, 10, 60}"
   ]
  },
  {
   "cell_type": "code",
   "execution_count": 86,
   "metadata": {
    "colab": {
     "base_uri": "https://localhost:8080/"
    },
    "id": "qRauPdd5fcHt",
    "outputId": "828418fa-1957-401e-e058-1ae9297123f7"
   },
   "outputs": [
    {
     "name": "stdout",
     "output_type": "stream",
     "text": [
      "{10, 20, 30, 40, 50}\n",
      "{30, 40, 50, 60, 70}\n"
     ]
    },
    {
     "data": {
      "text/plain": [
       "{10, 20, 60, 70}"
      ]
     },
     "execution_count": 86,
     "metadata": {},
     "output_type": "execute_result"
    }
   ],
   "source": [
    "input_strA = input()\n",
    "input_strB = input()\n",
    "\n",
    "import ast\n",
    "A = ast.literal_eval(input_strA)\n",
    "B = ast.literal_eval(input_strB)\n",
    "\n",
    "A.symmetric_difference(B)"
   ]
  }
 ],
 "metadata": {
  "colab": {
   "provenance": []
  },
  "kernelspec": {
   "display_name": "Python 3 (ipykernel)",
   "language": "python",
   "name": "python3"
  },
  "language_info": {
   "codemirror_mode": {
    "name": "ipython",
    "version": 3
   },
   "file_extension": ".py",
   "mimetype": "text/x-python",
   "name": "python",
   "nbconvert_exporter": "python",
   "pygments_lexer": "ipython3",
   "version": "3.9.12"
  }
 },
 "nbformat": 4,
 "nbformat_minor": 1
}
