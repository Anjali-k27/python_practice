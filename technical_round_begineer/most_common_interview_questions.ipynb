{
 "cells": [
  {
   "cell_type": "markdown",
   "metadata": {},
   "source": [
    "### Leap year or not?"
   ]
  },
  {
   "cell_type": "markdown",
   "metadata": {},
   "source": [
    "This code checks the leap year conditions in a single line, making it concise and efficient."
   ]
  },
  {
   "cell_type": "code",
   "execution_count": 2,
   "metadata": {},
   "outputs": [
    {
     "name": "stdout",
     "output_type": "stream",
     "text": [
      "Leap year\n",
      "Not a leap year\n"
     ]
    }
   ],
   "source": [
    "def is_leap_year(year):\n",
    "    if year % 4 == 0 and (year % 100 != 0 or year % 400 == 0):\n",
    "        return \"Leap year\"\n",
    "    else:\n",
    "        return \"Not a leap year\"\n",
    "\n",
    "print(is_leap_year(2020))  \n",
    "print(is_leap_year(1900))  "
   ]
  },
  {
   "cell_type": "markdown",
   "metadata": {},
   "source": [
    "### Armstrong number "
   ]
  },
  {
   "cell_type": "markdown",
   "metadata": {},
   "source": [
    "This code converts the number to a string to easily iterate over its digits and calculates the sum of each digit raised to the power of the number of digits."
   ]
  },
  {
   "cell_type": "code",
   "execution_count": 4,
   "metadata": {},
   "outputs": [
    {
     "name": "stdout",
     "output_type": "stream",
     "text": [
      "True\n",
      "False\n"
     ]
    }
   ],
   "source": [
    "def is_armstrong(number):\n",
    "    num_str = str(number)\n",
    "    num_digits = len(num_str)\n",
    "    return number == sum(int(digit) ** num_digits for digit in num_str)\n",
    "\n",
    "print(is_armstrong(153))  \n",
    "print(is_armstrong(123))  "
   ]
  },
  {
   "cell_type": "markdown",
   "metadata": {},
   "source": [
    "### Count factors"
   ]
  },
  {
   "cell_type": "markdown",
   "metadata": {},
   "source": [
    "The code iterates only up to the square root of n, counting pairs of factors at each step, which makes it more efficient."
   ]
  },
  {
   "cell_type": "code",
   "execution_count": 13,
   "metadata": {},
   "outputs": [
    {
     "name": "stdout",
     "output_type": "stream",
     "text": [
      "6\n"
     ]
    }
   ],
   "source": [
    "def count_factors(n):\n",
    "    count = 0\n",
    "    sqrt_n = int(n**0.5)\n",
    "    for i in range(1, sqrt_n + 1):\n",
    "        if n % i == 0:\n",
    "            count += 1\n",
    "            if i != n // i:\n",
    "                count += 1\n",
    "    return count\n",
    "\n",
    "print(count_factors(28))  "
   ]
  },
  {
   "cell_type": "markdown",
   "metadata": {},
   "source": [
    "### Factorial"
   ]
  },
  {
   "cell_type": "markdown",
   "metadata": {},
   "source": [
    "The code uses an iterative approach to compute the factorial, avoiding the overhead of recursion."
   ]
  },
  {
   "cell_type": "code",
   "execution_count": 5,
   "metadata": {},
   "outputs": [
    {
     "name": "stdout",
     "output_type": "stream",
     "text": [
      "120\n"
     ]
    }
   ],
   "source": [
    "def factorial(n):\n",
    "    if n == 0:\n",
    "        return 1\n",
    "    result = 1\n",
    "    for i in range(2, n + 1):\n",
    "        result *= i\n",
    "    return result\n",
    "\n",
    "print(factorial(5))  "
   ]
  },
  {
   "cell_type": "markdown",
   "metadata": {},
   "source": [
    "### Reverse of a number "
   ]
  },
  {
   "cell_type": "markdown",
   "metadata": {},
   "source": [
    "The code converts the number to a string, reverses it, and converts it back to an integer, which is straightforward and efficient."
   ]
  },
  {
   "cell_type": "code",
   "execution_count": 6,
   "metadata": {},
   "outputs": [
    {
     "name": "stdout",
     "output_type": "stream",
     "text": [
      "4321\n"
     ]
    }
   ],
   "source": [
    "def reverse_number(n):\n",
    "    return int(str(n)[::-1])\n",
    "\n",
    "print(reverse_number(1234))  "
   ]
  },
  {
   "cell_type": "markdown",
   "metadata": {},
   "source": [
    "### Prime or not?"
   ]
  },
  {
   "cell_type": "markdown",
   "metadata": {},
   "source": [
    "The code uses trial division up to the square root of n and skips even numbers and multiples of 3 for efficiency."
   ]
  },
  {
   "cell_type": "code",
   "execution_count": 7,
   "metadata": {},
   "outputs": [
    {
     "name": "stdout",
     "output_type": "stream",
     "text": [
      "Prime Number\n",
      "Not a prime number\n"
     ]
    }
   ],
   "source": [
    "def is_prime(n):\n",
    "    if n <= 1:\n",
    "        return \"Not a prime number\"\n",
    "    if n <= 3:\n",
    "        return \"Prime Number\"\n",
    "    if n % 2 == 0 or n % 3 == 0:\n",
    "        return \"Not a prime number\"\n",
    "    i = 5\n",
    "    while i * i <= n:\n",
    "        if n % i == 0 or n % (i + 2) == 0:\n",
    "            return \"Not a prime number\"\n",
    "        i += 6\n",
    "    return \"Prime Number\"\n",
    "\n",
    "print(is_prime(29)) \n",
    "print(is_prime(15)) "
   ]
  },
  {
   "cell_type": "markdown",
   "metadata": {},
   "source": [
    "### Sum of digits of a given number "
   ]
  },
  {
   "cell_type": "markdown",
   "metadata": {},
   "source": [
    "The code converts the number to a string, iterates over each digit, converts it back to an integer, and sums them up."
   ]
  },
  {
   "cell_type": "code",
   "execution_count": 8,
   "metadata": {},
   "outputs": [
    {
     "name": "stdout",
     "output_type": "stream",
     "text": [
      "10\n"
     ]
    }
   ],
   "source": [
    "def sum_of_digits(n):\n",
    "    return sum(int(digit) for digit in str(n))\n",
    "\n",
    "print(sum_of_digits(1234))  "
   ]
  },
  {
   "cell_type": "markdown",
   "metadata": {},
   "source": [
    "### Palindrome "
   ]
  },
  {
   "cell_type": "markdown",
   "metadata": {},
   "source": [
    "The code converts the number to a string and checks if it is equal to its reverse, making it simple and efficient."
   ]
  },
  {
   "cell_type": "code",
   "execution_count": 9,
   "metadata": {},
   "outputs": [
    {
     "name": "stdout",
     "output_type": "stream",
     "text": [
      "True\n",
      "False\n"
     ]
    }
   ],
   "source": [
    "def is_palindrome(n):\n",
    "    s = str(n)\n",
    "    return s == s[::-1]\n",
    "\n",
    "print(is_palindrome(121))  \n",
    "print(is_palindrome(123))  "
   ]
  },
  {
   "cell_type": "markdown",
   "metadata": {},
   "source": [
    "### HCF "
   ]
  },
  {
   "cell_type": "markdown",
   "metadata": {},
   "source": [
    "Uses the built-in math.gcd() function, which is implemented using the Euclidean algorithm, making it highly efficient."
   ]
  },
  {
   "cell_type": "code",
   "execution_count": 10,
   "metadata": {},
   "outputs": [
    {
     "name": "stdout",
     "output_type": "stream",
     "text": [
      "6\n"
     ]
    }
   ],
   "source": [
    "import math\n",
    "\n",
    "def hcf(a, b):\n",
    "    return math.gcd(a, b)\n",
    "\n",
    "print(hcf(54, 24)) "
   ]
  },
  {
   "cell_type": "markdown",
   "metadata": {},
   "source": [
    "### LCM "
   ]
  },
  {
   "cell_type": "markdown",
   "metadata": {},
   "source": [
    "The LCM is calculated using the relationship between LCM and GCD: LCM(a, b)*GCD(a,b) = abs(a * b)."
   ]
  },
  {
   "cell_type": "code",
   "execution_count": 11,
   "metadata": {},
   "outputs": [
    {
     "name": "stdout",
     "output_type": "stream",
     "text": [
      "216\n"
     ]
    }
   ],
   "source": [
    "import math\n",
    "\n",
    "def lcm(a, b):\n",
    "    return abs(a * b) // math.gcd(a, b)\n",
    "\n",
    "print(lcm(54, 24))  "
   ]
  },
  {
   "cell_type": "markdown",
   "metadata": {},
   "source": [
    "### Perfect number "
   ]
  },
  {
   "cell_type": "markdown",
   "metadata": {},
   "source": [
    "The function iterates only up to the square root of n to find divisors, reducing the number of iterations significantly.  <br>\n",
    "For each divisor found, both i and n // i are added to the sum of divisors.  <br>\n",
    "This reduces the time complexity to approximately O(sqrt(n))"
   ]
  },
  {
   "cell_type": "code",
   "execution_count": 12,
   "metadata": {},
   "outputs": [
    {
     "name": "stdout",
     "output_type": "stream",
     "text": [
      "True\n",
      "False\n"
     ]
    }
   ],
   "source": [
    "def is_perfect_number(n):\n",
    "    if n < 2:\n",
    "        return False\n",
    "    divisors_sum = 1\n",
    "    sqrt_n = int(n**0.5)\n",
    "    for i in range(2, sqrt_n + 1):\n",
    "        if n % i == 0:\n",
    "            divisors_sum += i\n",
    "            if i != n // i:\n",
    "                divisors_sum += n // i\n",
    "    return divisors_sum == n\n",
    "\n",
    "print(is_perfect_number(28))  \n",
    "print(is_perfect_number(12))  "
   ]
  }
 ],
 "metadata": {
  "kernelspec": {
   "display_name": "Python 3",
   "language": "python",
   "name": "python3"
  },
  "language_info": {
   "codemirror_mode": {
    "name": "ipython",
    "version": 3
   },
   "file_extension": ".py",
   "mimetype": "text/x-python",
   "name": "python",
   "nbconvert_exporter": "python",
   "pygments_lexer": "ipython3",
   "version": "3.10.7"
  }
 },
 "nbformat": 4,
 "nbformat_minor": 2
}
